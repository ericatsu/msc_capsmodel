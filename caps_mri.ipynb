{
  "cells": [
    {
      "cell_type": "markdown",
      "metadata": {
        "id": "view-in-github",
        "colab_type": "text"
      },
      "source": [
        "<a href=\"https://colab.research.google.com/github/ericatsu/msc_capsmodel/blob/main/caps_mri.ipynb\" target=\"_parent\"><img src=\"https://colab.research.google.com/assets/colab-badge.svg\" alt=\"Open In Colab\"/></a>"
      ]
    },
    {
      "cell_type": "markdown",
      "metadata": {
        "id": "8KHNTr-P8jDj"
      },
      "source": [
        "## Libraries"
      ]
    },
    {
      "cell_type": "code",
      "execution_count": 14,
      "metadata": {
        "id": "CWzclXTH3tmL"
      },
      "outputs": [],
      "source": [
        "import os\n",
        "import numpy as np\n",
        "import tensorflow as tf\n",
        "from tensorflow.keras.preprocessing.image import ImageDataGenerator\n",
        "from tensorflow.keras import layers, models, optimizers\n",
        "from tensorflow.keras.utils import to_categorical\n",
        "from sklearn.model_selection import train_test_split\n",
        "from sklearn.metrics import classification_report, confusion_matrix\n",
        "import matplotlib.pyplot as plt\n",
        "from google.colab import drive"
      ]
    },
    {
      "cell_type": "markdown",
      "metadata": {
        "id": "J5DkhcuE8jDw"
      },
      "source": [
        "## Dateset and Parameters"
      ]
    },
    {
      "cell_type": "code",
      "execution_count": 21,
      "metadata": {
        "colab": {
          "base_uri": "https://localhost:8080/"
        },
        "id": "WQr0T47m8jDx",
        "outputId": "293aa88b-e9ae-4c6a-c40d-6d9e8b383d27"
      },
      "outputs": [
        {
          "output_type": "stream",
          "name": "stdout",
          "text": [
            "Mounted at /content/drive\n"
          ]
        }
      ],
      "source": [
        "drive.mount('/content/drive', force_remount=True)\n",
        "\n",
        "base_dir = \"/content/drive/MyDrive/msc_capsmodel/dataset\"\n",
        "train_dir = os.path.join(base_dir, 'Training')\n",
        "test_dir = os.path.join(base_dir, 'Testing')\n",
        "categories = ['glioma', 'meningioma', 'notumor', 'pituitary']\n",
        "\n",
        "img_size = 128\n",
        "batch_size = 16\n",
        "epochs = 50"
      ]
    },
    {
      "cell_type": "markdown",
      "metadata": {
        "id": "l7zFOq8a8jDx"
      },
      "source": [
        "## Data Preparation"
      ]
    },
    {
      "cell_type": "code",
      "execution_count": 23,
      "metadata": {
        "id": "ybyfY-7F8jDy"
      },
      "outputs": [],
      "source": [
        "def prepare_data(directory, categories, img_size):\n",
        "    data = []\n",
        "    labels = []\n",
        "    for category in categories:\n",
        "        path = os.path.join(directory, category)\n",
        "        class_num = categories.index(category)\n",
        "        for img in os.listdir(path):\n",
        "            try:\n",
        "                img_array = tf.keras.preprocessing.image.load_img(os.path.join(path, img), target_size=(img_size, img_size), color_mode=\"grayscale\")\n",
        "                img_array = tf.keras.preprocessing.image.img_to_array(img_array)\n",
        "                img_array = img_array / 255.0\n",
        "                data.append(img_array)\n",
        "                labels.append(class_num)\n",
        "            except Exception as e:\n",
        "                pass\n",
        "    return np.array(data), np.array(labels)\n",
        "\n",
        "# Load and preprocess data\n",
        "X_train, y_train = prepare_data(train_dir, categories, img_size)\n",
        "X_test, y_test = prepare_data(test_dir, categories, img_size)\n",
        "y_train = to_categorical(y_train, num_classes=len(categories))\n",
        "y_test = to_categorical(y_test, num_classes=len(categories))"
      ]
    },
    {
      "cell_type": "markdown",
      "metadata": {
        "id": "XlDByQb08jDy"
      },
      "source": [
        "### Data Augmentation"
      ]
    },
    {
      "cell_type": "code",
      "execution_count": 24,
      "metadata": {
        "id": "QaTDqRKX8jDz"
      },
      "outputs": [],
      "source": [
        "datagen = ImageDataGenerator(\n",
        "    rotation_range=15,\n",
        "    width_shift_range=0.1,\n",
        "    height_shift_range=0.1,\n",
        "    shear_range=0.1,\n",
        "    zoom_range=0.1,\n",
        "    horizontal_flip=True,\n",
        "    fill_mode='nearest'\n",
        ")\n",
        "train_generator = datagen.flow(X_train, y_train, batch_size=batch_size)\n"
      ]
    },
    {
      "cell_type": "markdown",
      "metadata": {
        "id": "jGoG5pPR8jDz"
      },
      "source": [
        "### Capsule Network Model"
      ]
    },
    {
      "cell_type": "code",
      "execution_count": 25,
      "metadata": {
        "id": "S-XHUkFx8jD0"
      },
      "outputs": [],
      "source": [
        "class CapsuleLayer(layers.Layer):\n",
        "    def __init__(self, num_capsules, dim_capsules, routings=3, **kwargs):\n",
        "        super(CapsuleLayer, self).__init__(**kwargs)\n",
        "        self.num_capsules = num_capsules\n",
        "        self.dim_capsules = dim_capsules\n",
        "        self.routings = routings\n",
        "        self.kernel = None\n",
        "\n",
        "    def build(self, input_shape):\n",
        "        assert len(input_shape) == 3, \"Input shape should be [None, input_capsule_num, input_capsule_dim]\"\n",
        "        self.input_capsule_num = input_shape[1]\n",
        "        self.input_capsule_dim = input_shape[2]\n",
        "        self.kernel = self.add_weight(shape=(self.input_capsule_num, self.num_capsules, self.input_capsule_dim, self.dim_capsules),\n",
        "                                      initializer='glorot_uniform',\n",
        "                                      name='capsule_kernel')\n",
        "\n",
        "    def call(self, inputs, training=None):\n",
        "        inputs_expand = tf.expand_dims(tf.expand_dims(inputs, 2), -1)\n",
        "        inputs_tiled = tf.tile(inputs_expand, [1, 1, self.num_capsules, 1, 1])\n",
        "        inputs_hat = tf.reduce_sum(inputs_tiled * self.kernel, axis=3)\n",
        "\n",
        "        b = tf.zeros(shape=[tf.shape(inputs)[0], self.input_capsule_num, self.num_capsules, 1])\n",
        "        for i in range(self.routings):\n",
        "            c = tf.nn.softmax(b, axis=2)\n",
        "            outputs = tf.reduce_sum(c * inputs_hat, axis=1, keepdims=True)\n",
        "            outputs = tf.squeeze(tf.nn.l2_normalize(outputs, -1), axis=1)\n",
        "            if i < self.routings - 1:\n",
        "                b += tf.reduce_sum(inputs_hat * tf.expand_dims(outputs, 1), -1, keepdims=True)\n",
        "\n",
        "        return outputs\n",
        "\n",
        "    def compute_output_shape(self, input_shape):\n",
        "        return (input_shape[0], self.num_capsules, self.dim_capsules)\n",
        "\n",
        "class Length(layers.Layer):\n",
        "    def call(self, inputs, **kwargs):\n",
        "        return tf.sqrt(tf.reduce_sum(tf.square(inputs), -1) + 1e-9)"
      ]
    },
    {
      "cell_type": "markdown",
      "metadata": {
        "id": "hVKoabkm8jD0"
      },
      "source": [
        "### Define the CapsNet model"
      ]
    },
    {
      "cell_type": "code",
      "execution_count": 26,
      "metadata": {
        "colab": {
          "base_uri": "https://localhost:8080/"
        },
        "id": "1AHlOdLH8jD1",
        "outputId": "e9caa7a6-dc87-4e04-a249-1560aa2f2edd"
      },
      "outputs": [
        {
          "output_type": "stream",
          "name": "stdout",
          "text": [
            "Shape of primary_caps: (None, 48, 48, 256)\n"
          ]
        }
      ],
      "source": [
        "input_image = layers.Input(shape=(img_size, img_size, 1))\n",
        "conv1 = layers.Conv2D(256, (9, 9), activation='relu')(input_image)\n",
        "conv2 = layers.Conv2D(256, (9, 9), strides=(2, 2), activation='relu')(conv1)\n",
        "primary_caps = layers.Conv2D(32 * 8, (9, 9), activation='relu')(conv2)\n",
        "\n",
        "print(\"Shape of primary_caps:\", primary_caps.shape)"
      ]
    },
    {
      "cell_type": "markdown",
      "metadata": {
        "id": "RF9OqIR58jD2"
      },
      "source": [
        "### Adjust reshape layer based on printed shape"
      ]
    },
    {
      "cell_type": "code",
      "execution_count": 27,
      "metadata": {
        "colab": {
          "base_uri": "https://localhost:8080/"
        },
        "id": "KL-Iyb5e8jD2",
        "outputId": "9989ee04-d561-4357-eaba-f48c1a30f9c9"
      },
      "outputs": [
        {
          "output_type": "stream",
          "name": "stdout",
          "text": [
            "Model: \"model\"\n",
            "_________________________________________________________________\n",
            " Layer (type)                Output Shape              Param #   \n",
            "=================================================================\n",
            " input_1 (InputLayer)        [(None, 128, 128, 1)]     0         \n",
            "                                                                 \n",
            " conv2d (Conv2D)             (None, 120, 120, 256)     20992     \n",
            "                                                                 \n",
            " conv2d_1 (Conv2D)           (None, 56, 56, 256)       5308672   \n",
            "                                                                 \n",
            " conv2d_2 (Conv2D)           (None, 48, 48, 256)       5308672   \n",
            "                                                                 \n",
            " reshape (Reshape)           (None, 2304, 256)         0         \n",
            "                                                                 \n",
            " capsule_layer (CapsuleLaye  (None, 4, 16)             37748736  \n",
            " r)                                                              \n",
            "                                                                 \n",
            " length (Length)             (None, 4)                 0         \n",
            "                                                                 \n",
            "=================================================================\n",
            "Total params: 48387072 (184.58 MB)\n",
            "Trainable params: 48387072 (184.58 MB)\n",
            "Non-trainable params: 0 (0.00 Byte)\n",
            "_________________________________________________________________\n"
          ]
        }
      ],
      "source": [
        "primary_caps_reshape = layers.Reshape((-1, 256))(primary_caps)\n",
        "capsule = CapsuleLayer(num_capsules=len(categories), dim_capsules=16)(primary_caps_reshape)\n",
        "output = Length()(capsule)\n",
        "\n",
        "model = models.Model(inputs=input_image, outputs=output)\n",
        "model.compile(optimizer=optimizers.Adam(learning_rate=1e-4), loss='binary_crossentropy', metrics=['accuracy'])\n",
        "\n",
        "model.summary()"
      ]
    },
    {
      "cell_type": "markdown",
      "metadata": {
        "id": "Pak5Al3A8jD2"
      },
      "source": [
        "## Training the Model"
      ]
    },
    {
      "cell_type": "code",
      "execution_count": 29,
      "metadata": {
        "colab": {
          "base_uri": "https://localhost:8080/"
        },
        "id": "4zav01d88jD3",
        "outputId": "ed173c8a-94d8-4a81-e590-647964be2893"
      },
      "outputs": [
        {
          "output_type": "stream",
          "name": "stdout",
          "text": [
            "Warning: Validation data is empty. Training without validation.\n",
            "Epoch 1/50\n",
            "20/20 [==============================] - 9s 450ms/step - loss: 5.6075 - accuracy: 0.7625\n",
            "Epoch 2/50\n",
            "20/20 [==============================] - 9s 456ms/step - loss: 2.5836 - accuracy: 0.9969\n",
            "Epoch 3/50\n",
            "20/20 [==============================] - 9s 460ms/step - loss: 2.5896 - accuracy: 1.0000\n",
            "Epoch 4/50\n",
            "20/20 [==============================] - 9s 463ms/step - loss: 2.5896 - accuracy: 1.0000\n",
            "Epoch 5/50\n",
            "20/20 [==============================] - 9s 469ms/step - loss: 2.5896 - accuracy: 1.0000\n",
            "Epoch 6/50\n",
            "20/20 [==============================] - 10s 476ms/step - loss: 2.5896 - accuracy: 1.0000\n",
            "Epoch 7/50\n",
            "20/20 [==============================] - 10s 477ms/step - loss: 2.5896 - accuracy: 1.0000\n",
            "Epoch 8/50\n",
            "20/20 [==============================] - 9s 471ms/step - loss: 2.5896 - accuracy: 1.0000\n",
            "Epoch 9/50\n",
            "20/20 [==============================] - 9s 471ms/step - loss: 2.5896 - accuracy: 1.0000\n",
            "Epoch 10/50\n",
            "20/20 [==============================] - 9s 468ms/step - loss: 2.5896 - accuracy: 1.0000\n",
            "Epoch 11/50\n",
            "20/20 [==============================] - 9s 467ms/step - loss: 2.5896 - accuracy: 1.0000\n",
            "Epoch 12/50\n",
            "20/20 [==============================] - 9s 469ms/step - loss: 2.5896 - accuracy: 1.0000\n",
            "Epoch 13/50\n",
            "20/20 [==============================] - 9s 471ms/step - loss: 2.5896 - accuracy: 1.0000\n",
            "Epoch 14/50\n",
            "20/20 [==============================] - 9s 469ms/step - loss: 2.5896 - accuracy: 1.0000\n",
            "Epoch 15/50\n",
            "20/20 [==============================] - 9s 472ms/step - loss: 2.5896 - accuracy: 1.0000\n",
            "Epoch 16/50\n",
            "20/20 [==============================] - 9s 471ms/step - loss: 2.5896 - accuracy: 1.0000\n",
            "Epoch 17/50\n",
            "20/20 [==============================] - 9s 469ms/step - loss: 2.5896 - accuracy: 1.0000\n",
            "Epoch 18/50\n",
            "20/20 [==============================] - 9s 468ms/step - loss: 2.5896 - accuracy: 1.0000\n",
            "Epoch 19/50\n",
            "20/20 [==============================] - 9s 473ms/step - loss: 2.5896 - accuracy: 1.0000\n",
            "Epoch 20/50\n",
            "20/20 [==============================] - 9s 472ms/step - loss: 2.5896 - accuracy: 1.0000\n",
            "Epoch 21/50\n",
            "20/20 [==============================] - 9s 470ms/step - loss: 2.5896 - accuracy: 1.0000\n",
            "Epoch 22/50\n",
            "20/20 [==============================] - 9s 470ms/step - loss: 2.5896 - accuracy: 1.0000\n",
            "Epoch 23/50\n",
            "20/20 [==============================] - 9s 470ms/step - loss: 2.5896 - accuracy: 1.0000\n",
            "Epoch 24/50\n",
            "20/20 [==============================] - 9s 469ms/step - loss: 2.5896 - accuracy: 1.0000\n",
            "Epoch 25/50\n",
            "20/20 [==============================] - 9s 468ms/step - loss: 2.5896 - accuracy: 1.0000\n",
            "Epoch 26/50\n",
            "20/20 [==============================] - 9s 469ms/step - loss: 2.5896 - accuracy: 1.0000\n",
            "Epoch 27/50\n",
            "20/20 [==============================] - 9s 471ms/step - loss: 2.5896 - accuracy: 1.0000\n",
            "Epoch 28/50\n",
            "20/20 [==============================] - 9s 469ms/step - loss: 2.5896 - accuracy: 1.0000\n",
            "Epoch 29/50\n",
            "20/20 [==============================] - 9s 471ms/step - loss: 3.0259 - accuracy: 0.9750\n",
            "Epoch 30/50\n",
            "20/20 [==============================] - 9s 471ms/step - loss: 3.6342 - accuracy: 0.9500\n",
            "Epoch 31/50\n",
            "20/20 [==============================] - 9s 470ms/step - loss: 2.5896 - accuracy: 1.0000\n",
            "Epoch 32/50\n",
            "20/20 [==============================] - 9s 471ms/step - loss: 2.5896 - accuracy: 1.0000\n",
            "Epoch 33/50\n",
            "20/20 [==============================] - 9s 473ms/step - loss: 2.5896 - accuracy: 1.0000\n",
            "Epoch 34/50\n",
            "20/20 [==============================] - 9s 471ms/step - loss: 2.5896 - accuracy: 1.0000\n",
            "Epoch 35/50\n",
            "20/20 [==============================] - 9s 468ms/step - loss: 2.5896 - accuracy: 1.0000\n",
            "Epoch 36/50\n",
            "20/20 [==============================] - 9s 469ms/step - loss: 2.5896 - accuracy: 1.0000\n",
            "Epoch 37/50\n",
            "20/20 [==============================] - 9s 470ms/step - loss: 2.5896 - accuracy: 1.0000\n",
            "Epoch 38/50\n",
            "20/20 [==============================] - 9s 468ms/step - loss: 2.5896 - accuracy: 1.0000\n",
            "Epoch 39/50\n",
            "20/20 [==============================] - 9s 469ms/step - loss: 2.5896 - accuracy: 1.0000\n",
            "Epoch 40/50\n",
            "20/20 [==============================] - 9s 471ms/step - loss: 2.5896 - accuracy: 1.0000\n",
            "Epoch 41/50\n",
            "20/20 [==============================] - 9s 471ms/step - loss: 2.5896 - accuracy: 1.0000\n",
            "Epoch 42/50\n",
            "20/20 [==============================] - 9s 471ms/step - loss: 2.5896 - accuracy: 1.0000\n",
            "Epoch 43/50\n",
            "20/20 [==============================] - 9s 470ms/step - loss: 2.5896 - accuracy: 1.0000\n",
            "Epoch 44/50\n",
            "20/20 [==============================] - 9s 471ms/step - loss: 2.5896 - accuracy: 1.0000\n",
            "Epoch 45/50\n",
            "20/20 [==============================] - 9s 470ms/step - loss: 2.5896 - accuracy: 1.0000\n",
            "Epoch 46/50\n",
            "20/20 [==============================] - 9s 467ms/step - loss: 2.5896 - accuracy: 1.0000\n",
            "Epoch 47/50\n",
            "20/20 [==============================] - 9s 469ms/step - loss: 2.5896 - accuracy: 1.0000\n",
            "Epoch 48/50\n",
            "20/20 [==============================] - 9s 470ms/step - loss: 2.5896 - accuracy: 1.0000\n",
            "Epoch 49/50\n",
            "20/20 [==============================] - 9s 470ms/step - loss: 3.4680 - accuracy: 0.9500\n",
            "Epoch 50/50\n",
            "20/20 [==============================] - 9s 470ms/step - loss: 4.5092 - accuracy: 0.8875\n"
          ]
        }
      ],
      "source": [
        "# Check if your validation data is empty. If it is, provide valid data or remove the validation_data argument.\n",
        "if y_test.size == 0:\n",
        "    print(\"Warning: Validation data is empty. Training without validation.\")\n",
        "    history = model.fit(train_generator, steps_per_epoch=len(X_train) // batch_size, epochs=epochs)\n",
        "else:\n",
        "    history = model.fit(train_generator, steps_per_epoch=len(X_train) // batch_size, epochs=epochs, validation_data=(X_test, y_test))"
      ]
    },
    {
      "cell_type": "markdown",
      "metadata": {
        "id": "VJh79t5F8jD4"
      },
      "source": [
        "### Save the model"
      ]
    },
    {
      "cell_type": "code",
      "execution_count": 30,
      "metadata": {
        "colab": {
          "base_uri": "https://localhost:8080/"
        },
        "id": "QDgJerRi8jD5",
        "outputId": "f0ac1aa3-7fe7-4db9-9287-128cf93bfcdb"
      },
      "outputs": [
        {
          "output_type": "stream",
          "name": "stderr",
          "text": [
            "/usr/local/lib/python3.10/dist-packages/keras/src/engine/training.py:3103: UserWarning: You are saving your model as an HDF5 file via `model.save()`. This file format is considered legacy. We recommend using instead the native Keras format, e.g. `model.save('my_model.keras')`.\n",
            "  saving_api.save_model(\n"
          ]
        }
      ],
      "source": [
        "model.save(\"capsnet_brain_tumor_model.h5\")"
      ]
    },
    {
      "cell_type": "code",
      "source": [
        "model.save('capsnet_brain_tumor_model.keras')"
      ],
      "metadata": {
        "id": "vSEccfQJGobw"
      },
      "execution_count": 31,
      "outputs": []
    },
    {
      "cell_type": "markdown",
      "metadata": {
        "id": "8lmQbOR78jD5"
      },
      "source": [
        "### Evaluate the model"
      ]
    },
    {
      "cell_type": "code",
      "execution_count": 32,
      "metadata": {
        "colab": {
          "base_uri": "https://localhost:8080/",
          "height": 373
        },
        "id": "ZD8YHU5b8jD6",
        "outputId": "c3116509-29eb-4b30-efba-a10536f2c953"
      },
      "outputs": [
        {
          "output_type": "error",
          "ename": "ValueError",
          "evalue": "Expected input data to be non-empty.",
          "traceback": [
            "\u001b[0;31m---------------------------------------------------------------------------\u001b[0m",
            "\u001b[0;31mValueError\u001b[0m                                Traceback (most recent call last)",
            "\u001b[0;32m<ipython-input-32-a47fbc6f3577>\u001b[0m in \u001b[0;36m<cell line: 1>\u001b[0;34m()\u001b[0m\n\u001b[0;32m----> 1\u001b[0;31m \u001b[0mscore\u001b[0m \u001b[0;34m=\u001b[0m \u001b[0mmodel\u001b[0m\u001b[0;34m.\u001b[0m\u001b[0mevaluate\u001b[0m\u001b[0;34m(\u001b[0m\u001b[0mX_test\u001b[0m\u001b[0;34m,\u001b[0m \u001b[0my_test\u001b[0m\u001b[0;34m,\u001b[0m \u001b[0mverbose\u001b[0m\u001b[0;34m=\u001b[0m\u001b[0;36m0\u001b[0m\u001b[0;34m)\u001b[0m\u001b[0;34m\u001b[0m\u001b[0;34m\u001b[0m\u001b[0m\n\u001b[0m\u001b[1;32m      2\u001b[0m \u001b[0mprint\u001b[0m\u001b[0;34m(\u001b[0m\u001b[0;34m'Test loss:'\u001b[0m\u001b[0;34m,\u001b[0m \u001b[0mscore\u001b[0m\u001b[0;34m[\u001b[0m\u001b[0;36m0\u001b[0m\u001b[0;34m]\u001b[0m\u001b[0;34m)\u001b[0m\u001b[0;34m\u001b[0m\u001b[0;34m\u001b[0m\u001b[0m\n\u001b[1;32m      3\u001b[0m \u001b[0mprint\u001b[0m\u001b[0;34m(\u001b[0m\u001b[0;34m'Test accuracy:'\u001b[0m\u001b[0;34m,\u001b[0m \u001b[0mscore\u001b[0m\u001b[0;34m[\u001b[0m\u001b[0;36m1\u001b[0m\u001b[0;34m]\u001b[0m\u001b[0;34m)\u001b[0m\u001b[0;34m\u001b[0m\u001b[0;34m\u001b[0m\u001b[0m\n",
            "\u001b[0;32m/usr/local/lib/python3.10/dist-packages/keras/src/utils/traceback_utils.py\u001b[0m in \u001b[0;36merror_handler\u001b[0;34m(*args, **kwargs)\u001b[0m\n\u001b[1;32m     68\u001b[0m             \u001b[0;31m# To get the full stack trace, call:\u001b[0m\u001b[0;34m\u001b[0m\u001b[0;34m\u001b[0m\u001b[0m\n\u001b[1;32m     69\u001b[0m             \u001b[0;31m# `tf.debugging.disable_traceback_filtering()`\u001b[0m\u001b[0;34m\u001b[0m\u001b[0;34m\u001b[0m\u001b[0m\n\u001b[0;32m---> 70\u001b[0;31m             \u001b[0;32mraise\u001b[0m \u001b[0me\u001b[0m\u001b[0;34m.\u001b[0m\u001b[0mwith_traceback\u001b[0m\u001b[0;34m(\u001b[0m\u001b[0mfiltered_tb\u001b[0m\u001b[0;34m)\u001b[0m \u001b[0;32mfrom\u001b[0m \u001b[0;32mNone\u001b[0m\u001b[0;34m\u001b[0m\u001b[0;34m\u001b[0m\u001b[0m\n\u001b[0m\u001b[1;32m     71\u001b[0m         \u001b[0;32mfinally\u001b[0m\u001b[0;34m:\u001b[0m\u001b[0;34m\u001b[0m\u001b[0;34m\u001b[0m\u001b[0m\n\u001b[1;32m     72\u001b[0m             \u001b[0;32mdel\u001b[0m \u001b[0mfiltered_tb\u001b[0m\u001b[0;34m\u001b[0m\u001b[0;34m\u001b[0m\u001b[0m\n",
            "\u001b[0;32m/usr/local/lib/python3.10/dist-packages/keras/src/engine/data_adapter.py\u001b[0m in \u001b[0;36m__init__\u001b[0;34m(self, x, y, sample_weight, batch_size, steps_per_epoch, initial_epoch, epochs, shuffle, class_weight, max_queue_size, workers, use_multiprocessing, model, steps_per_execution, distribute, pss_evaluation_shards)\u001b[0m\n\u001b[1;32m   1317\u001b[0m \u001b[0;34m\u001b[0m\u001b[0m\n\u001b[1;32m   1318\u001b[0m         \u001b[0;32mif\u001b[0m \u001b[0mself\u001b[0m\u001b[0;34m.\u001b[0m\u001b[0m_inferred_steps\u001b[0m \u001b[0;34m==\u001b[0m \u001b[0;36m0\u001b[0m\u001b[0;34m:\u001b[0m\u001b[0;34m\u001b[0m\u001b[0;34m\u001b[0m\u001b[0m\n\u001b[0;32m-> 1319\u001b[0;31m             \u001b[0;32mraise\u001b[0m \u001b[0mValueError\u001b[0m\u001b[0;34m(\u001b[0m\u001b[0;34m\"Expected input data to be non-empty.\"\u001b[0m\u001b[0;34m)\u001b[0m\u001b[0;34m\u001b[0m\u001b[0;34m\u001b[0m\u001b[0m\n\u001b[0m\u001b[1;32m   1320\u001b[0m \u001b[0;34m\u001b[0m\u001b[0m\n\u001b[1;32m   1321\u001b[0m     def _configure_dataset_and_inferred_steps(\n",
            "\u001b[0;31mValueError\u001b[0m: Expected input data to be non-empty."
          ]
        }
      ],
      "source": [
        "score = model.evaluate(X_test, y_test, verbose=0)\n",
        "print('Test loss:', score[0])\n",
        "print('Test accuracy:', score[1])"
      ]
    },
    {
      "cell_type": "markdown",
      "metadata": {
        "id": "0OMcbcBO8jD6"
      },
      "source": [
        "### Generate classification report"
      ]
    },
    {
      "cell_type": "code",
      "execution_count": null,
      "metadata": {
        "id": "2q-yVY0V8jD6"
      },
      "outputs": [],
      "source": [
        "y_pred = model.predict(X_test)\n",
        "y_pred_classes = np.argmax(y_pred, axis=1)\n",
        "y_true = np.argmax(y_test, axis=1)\n",
        "print(classification_report(y_true, y_pred_classes, target_names=categories))"
      ]
    },
    {
      "cell_type": "markdown",
      "metadata": {
        "id": "T9s9BrKb8jD6"
      },
      "source": [
        "### Confusion matrix"
      ]
    },
    {
      "cell_type": "code",
      "execution_count": null,
      "metadata": {
        "id": "myba49Sj8jD6"
      },
      "outputs": [],
      "source": [
        "conf_matrix = confusion_matrix(y_true, y_pred_classes)\n",
        "print(conf_matrix)"
      ]
    }
  ],
  "metadata": {
    "colab": {
      "provenance": [],
      "gpuType": "T4",
      "include_colab_link": true
    },
    "kernelspec": {
      "display_name": "Python 3",
      "name": "python3"
    },
    "language_info": {
      "codemirror_mode": {
        "name": "ipython",
        "version": 3
      },
      "file_extension": ".py",
      "mimetype": "text/x-python",
      "name": "python",
      "nbconvert_exporter": "python",
      "pygments_lexer": "ipython3",
      "version": "3.12.3"
    },
    "accelerator": "GPU"
  },
  "nbformat": 4,
  "nbformat_minor": 0
}