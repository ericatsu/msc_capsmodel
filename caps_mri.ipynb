{
 "cells": [
  {
   "cell_type": "markdown",
   "id": "027295f9",
   "metadata": {
    "id": "8KHNTr-P8jDj",
    "papermill": {
     "duration": 0.0081,
     "end_time": "2024-08-03T14:31:26.201665",
     "exception": false,
     "start_time": "2024-08-03T14:31:26.193565",
     "status": "completed"
    },
    "tags": []
   },
   "source": [
    "## Libraries"
   ]
  },
  {
   "cell_type": "code",
   "execution_count": 1,
   "id": "97630daf",
   "metadata": {
    "execution": {
     "iopub.execute_input": "2024-08-03T14:31:26.218266Z",
     "iopub.status.busy": "2024-08-03T14:31:26.217887Z",
     "iopub.status.idle": "2024-08-03T14:31:39.454868Z",
     "shell.execute_reply": "2024-08-03T14:31:39.453809Z"
    },
    "id": "CWzclXTH3tmL",
    "papermill": {
     "duration": 13.248632,
     "end_time": "2024-08-03T14:31:39.458068",
     "exception": false,
     "start_time": "2024-08-03T14:31:26.209436",
     "status": "completed"
    },
    "tags": []
   },
   "outputs": [
    {
     "name": "stderr",
     "output_type": "stream",
     "text": [
      "2024-08-03 14:31:27.935633: E external/local_xla/xla/stream_executor/cuda/cuda_dnn.cc:9261] Unable to register cuDNN factory: Attempting to register factory for plugin cuDNN when one has already been registered\n",
      "2024-08-03 14:31:27.935742: E external/local_xla/xla/stream_executor/cuda/cuda_fft.cc:607] Unable to register cuFFT factory: Attempting to register factory for plugin cuFFT when one has already been registered\n",
      "2024-08-03 14:31:28.064981: E external/local_xla/xla/stream_executor/cuda/cuda_blas.cc:1515] Unable to register cuBLAS factory: Attempting to register factory for plugin cuBLAS when one has already been registered\n"
     ]
    }
   ],
   "source": [
    "import os\n",
    "import numpy as np\n",
    "import tensorflow as tf\n",
    "from tensorflow.keras.preprocessing.image import ImageDataGenerator\n",
    "from tensorflow.keras import layers, models, optimizers\n",
    "from tensorflow.keras.utils import to_categorical\n",
    "from sklearn.utils.class_weight import compute_class_weight\n",
    "from sklearn.metrics import classification_report, confusion_matrix\n",
    "import matplotlib.pyplot as plt\n",
    "from collections import Counter\n",
    "from sklearn.utils.class_weight import compute_class_weight\n",
    "import warnings"
   ]
  },
  {
   "cell_type": "markdown",
   "id": "07603aa9",
   "metadata": {
    "id": "J5DkhcuE8jDw",
    "papermill": {
     "duration": 0.008837,
     "end_time": "2024-08-03T14:31:39.477697",
     "exception": false,
     "start_time": "2024-08-03T14:31:39.468860",
     "status": "completed"
    },
    "tags": []
   },
   "source": [
    "## Dateset and Parameters"
   ]
  },
  {
   "cell_type": "code",
   "execution_count": 2,
   "id": "89247e5f",
   "metadata": {
    "execution": {
     "iopub.execute_input": "2024-08-03T14:31:39.498996Z",
     "iopub.status.busy": "2024-08-03T14:31:39.496123Z",
     "iopub.status.idle": "2024-08-03T14:31:39.504514Z",
     "shell.execute_reply": "2024-08-03T14:31:39.503471Z"
    },
    "id": "WQr0T47m8jDx",
    "outputId": "8529e8f8-e4da-42f4-f899-052521dc07e9",
    "papermill": {
     "duration": 0.019839,
     "end_time": "2024-08-03T14:31:39.506671",
     "exception": false,
     "start_time": "2024-08-03T14:31:39.486832",
     "status": "completed"
    },
    "tags": []
   },
   "outputs": [],
   "source": [
    "base_dir = \"/kaggle/input/brain-mri/dataset\"\n",
    "test_dir = os.path.join(base_dir, 'testing')\n",
    "train_dir = os.path.join(base_dir, 'training')\n",
    "categories = ['glioma', 'meningioma', 'notumor', 'pituitary']\n",
    "\n",
    "img_size = 128\n",
    "batch_size = 16\n",
    "epochs = 50"
   ]
  },
  {
   "cell_type": "markdown",
   "id": "32a11320",
   "metadata": {
    "id": "l7zFOq8a8jDx",
    "papermill": {
     "duration": 0.007791,
     "end_time": "2024-08-03T14:31:39.522193",
     "exception": false,
     "start_time": "2024-08-03T14:31:39.514402",
     "status": "completed"
    },
    "tags": []
   },
   "source": [
    "## Data Preparation"
   ]
  },
  {
   "cell_type": "code",
   "execution_count": 3,
   "id": "0594d826",
   "metadata": {
    "execution": {
     "iopub.execute_input": "2024-08-03T14:31:39.539925Z",
     "iopub.status.busy": "2024-08-03T14:31:39.539141Z",
     "iopub.status.idle": "2024-08-03T14:32:26.070382Z",
     "shell.execute_reply": "2024-08-03T14:32:26.069566Z"
    },
    "id": "ybyfY-7F8jDy",
    "papermill": {
     "duration": 46.542735,
     "end_time": "2024-08-03T14:32:26.072936",
     "exception": false,
     "start_time": "2024-08-03T14:31:39.530201",
     "status": "completed"
    },
    "tags": []
   },
   "outputs": [],
   "source": [
    "def prepare_data(directory, categories, img_size):\n",
    "    data = []\n",
    "    labels = []\n",
    "    for category in categories:\n",
    "        path = os.path.join(directory, category)\n",
    "        class_num = categories.index(category)\n",
    "        for img in os.listdir(path):\n",
    "            try:\n",
    "                img_array = tf.keras.preprocessing.image.load_img(os.path.join(path, img), target_size=(img_size, img_size), color_mode=\"grayscale\")\n",
    "                img_array = tf.keras.preprocessing.image.img_to_array(img_array)\n",
    "                img_array = img_array / 255.0\n",
    "                data.append(img_array)\n",
    "                labels.append(class_num)\n",
    "            except Exception as e:\n",
    "                print(f\"Failed to read image: {os.path.join(path, img)}, error: {e}\")  # Debug statement\n",
    "    return np.array(data), np.array(labels)\n",
    "\n",
    "# Load and preprocess data\n",
    "X_train, y_train = prepare_data(train_dir, categories, img_size)\n",
    "X_test, y_test = prepare_data(test_dir, categories, img_size)\n",
    "y_train = to_categorical(y_train, num_classes=len(categories))\n",
    "y_test = to_categorical(y_test, num_classes=len(categories))"
   ]
  },
  {
   "cell_type": "markdown",
   "id": "0efda439",
   "metadata": {
    "papermill": {
     "duration": 0.007405,
     "end_time": "2024-08-03T14:32:26.089430",
     "exception": false,
     "start_time": "2024-08-03T14:32:26.082025",
     "status": "completed"
    },
    "tags": []
   },
   "source": [
    "## Load and preprocess data"
   ]
  },
  {
   "cell_type": "code",
   "execution_count": 4,
   "id": "b1742f79",
   "metadata": {
    "execution": {
     "iopub.execute_input": "2024-08-03T14:32:26.106422Z",
     "iopub.status.busy": "2024-08-03T14:32:26.105708Z",
     "iopub.status.idle": "2024-08-03T14:32:26.111034Z",
     "shell.execute_reply": "2024-08-03T14:32:26.109910Z"
    },
    "papermill": {
     "duration": 0.016033,
     "end_time": "2024-08-03T14:32:26.113025",
     "exception": false,
     "start_time": "2024-08-03T14:32:26.096992",
     "status": "completed"
    },
    "tags": []
   },
   "outputs": [
    {
     "name": "stdout",
     "output_type": "stream",
     "text": [
      "Training samples: 5711\n",
      "Testing samples: 1311\n"
     ]
    }
   ],
   "source": [
    "print(f\"Training samples: {X_train.shape[0]}\")\n",
    "print(f\"Testing samples: {X_test.shape[0]}\")"
   ]
  },
  {
   "cell_type": "code",
   "execution_count": 5,
   "id": "cf32889e",
   "metadata": {
    "execution": {
     "iopub.execute_input": "2024-08-03T14:32:26.129573Z",
     "iopub.status.busy": "2024-08-03T14:32:26.129329Z",
     "iopub.status.idle": "2024-08-03T14:32:26.137099Z",
     "shell.execute_reply": "2024-08-03T14:32:26.136207Z"
    },
    "papermill": {
     "duration": 0.018401,
     "end_time": "2024-08-03T14:32:26.138932",
     "exception": false,
     "start_time": "2024-08-03T14:32:26.120531",
     "status": "completed"
    },
    "tags": []
   },
   "outputs": [
    {
     "name": "stdout",
     "output_type": "stream",
     "text": [
      "Training class distribution: Counter({2: 1595, 3: 1457, 1: 1339, 0: 1320})\n",
      "Testing class distribution: Counter({2: 405, 1: 306, 0: 300, 3: 300})\n"
     ]
    }
   ],
   "source": [
    "print(f\"Training class distribution: {Counter(np.argmax(y_train, axis=1))}\")\n",
    "print(f\"Testing class distribution: {Counter(np.argmax(y_test, axis=1))}\")"
   ]
  },
  {
   "cell_type": "markdown",
   "id": "22162471",
   "metadata": {
    "id": "XlDByQb08jDy",
    "papermill": {
     "duration": 0.00748,
     "end_time": "2024-08-03T14:32:26.154462",
     "exception": false,
     "start_time": "2024-08-03T14:32:26.146982",
     "status": "completed"
    },
    "tags": []
   },
   "source": [
    "## Data Augmentation"
   ]
  },
  {
   "cell_type": "code",
   "execution_count": 6,
   "id": "9c2d784c",
   "metadata": {
    "execution": {
     "iopub.execute_input": "2024-08-03T14:32:26.170823Z",
     "iopub.status.busy": "2024-08-03T14:32:26.170509Z",
     "iopub.status.idle": "2024-08-03T14:32:26.175331Z",
     "shell.execute_reply": "2024-08-03T14:32:26.174611Z"
    },
    "id": "QaTDqRKX8jDz",
    "papermill": {
     "duration": 0.015242,
     "end_time": "2024-08-03T14:32:26.177219",
     "exception": false,
     "start_time": "2024-08-03T14:32:26.161977",
     "status": "completed"
    },
    "tags": []
   },
   "outputs": [],
   "source": [
    "datagen = ImageDataGenerator(\n",
    "    rotation_range=10,\n",
    "    width_shift_range=0.1,\n",
    "    height_shift_range=0.1,\n",
    "    shear_range=0.1,\n",
    "    zoom_range=0.1,\n",
    "    horizontal_flip=True,\n",
    "    fill_mode='nearest'\n",
    ")\n",
    "\n",
    "train_generator = datagen.flow(X_train, y_train, batch_size=batch_size)"
   ]
  },
  {
   "cell_type": "markdown",
   "id": "a540a121",
   "metadata": {
    "id": "jGoG5pPR8jDz",
    "papermill": {
     "duration": 0.007407,
     "end_time": "2024-08-03T14:32:26.192567",
     "exception": false,
     "start_time": "2024-08-03T14:32:26.185160",
     "status": "completed"
    },
    "tags": []
   },
   "source": [
    "### Capsule Network Model"
   ]
  },
  {
   "cell_type": "code",
   "execution_count": 7,
   "id": "4d76a857",
   "metadata": {
    "execution": {
     "iopub.execute_input": "2024-08-03T14:32:26.209096Z",
     "iopub.status.busy": "2024-08-03T14:32:26.208744Z",
     "iopub.status.idle": "2024-08-03T14:32:26.221288Z",
     "shell.execute_reply": "2024-08-03T14:32:26.220452Z"
    },
    "id": "S-XHUkFx8jD0",
    "papermill": {
     "duration": 0.023163,
     "end_time": "2024-08-03T14:32:26.223247",
     "exception": false,
     "start_time": "2024-08-03T14:32:26.200084",
     "status": "completed"
    },
    "tags": []
   },
   "outputs": [],
   "source": [
    "class CapsuleLayer(layers.Layer):\n",
    "    def __init__(self, num_capsules, dim_capsules, routings=3, **kwargs):\n",
    "        super(CapsuleLayer, self).__init__(**kwargs)\n",
    "        self.num_capsules = num_capsules\n",
    "        self.dim_capsules = dim_capsules\n",
    "        self.routings = routings\n",
    "        self.kernel = None\n",
    "\n",
    "    def build(self, input_shape):\n",
    "        assert len(input_shape) == 3, \"Input shape should be [None, input_capsule_num, input_capsule_dim]\"\n",
    "        self.input_capsule_num = input_shape[1]\n",
    "        self.input_capsule_dim = input_shape[2]\n",
    "        self.kernel = self.add_weight(shape=(self.input_capsule_num, self.num_capsules, self.input_capsule_dim, self.dim_capsules),\n",
    "                                      initializer='glorot_uniform',\n",
    "                                      name='capsule_kernel')\n",
    "\n",
    "    def call(self, inputs, training=None):\n",
    "        inputs_expand = tf.expand_dims(tf.expand_dims(inputs, 2), -1)\n",
    "        inputs_tiled = tf.tile(inputs_expand, [1, 1, self.num_capsules, 1, 1])\n",
    "        inputs_hat = tf.reduce_sum(inputs_tiled * self.kernel, axis=3)\n",
    "\n",
    "        b = tf.zeros(shape=[tf.shape(inputs)[0], self.input_capsule_num, self.num_capsules, 1])\n",
    "        for i in range(self.routings):\n",
    "            c = tf.nn.softmax(b, axis=2)\n",
    "            outputs = tf.reduce_sum(c * inputs_hat, axis=1, keepdims=True)\n",
    "            outputs = tf.squeeze(tf.nn.l2_normalize(outputs, -1), axis=1)\n",
    "            if i < self.routings - 1:\n",
    "                b += tf.reduce_sum(inputs_hat * tf.expand_dims(outputs, 1), -1, keepdims=True)\n",
    "\n",
    "        return outputs\n",
    "\n",
    "    def compute_output_shape(self, input_shape):\n",
    "        return (input_shape[0], self.num_capsules, self.dim_capsules)\n",
    "\n",
    "class Length(layers.Layer):\n",
    "    def call(self, inputs, **kwargs):\n",
    "        return tf.sqrt(tf.reduce_sum(tf.square(inputs), -1) + 1e-9)"
   ]
  },
  {
   "cell_type": "markdown",
   "id": "72b19395",
   "metadata": {
    "id": "hVKoabkm8jD0",
    "papermill": {
     "duration": 0.007489,
     "end_time": "2024-08-03T14:32:26.238366",
     "exception": false,
     "start_time": "2024-08-03T14:32:26.230877",
     "status": "completed"
    },
    "tags": []
   },
   "source": [
    "### Define the CapsNet model"
   ]
  },
  {
   "cell_type": "code",
   "execution_count": 8,
   "id": "8e1708fb",
   "metadata": {
    "execution": {
     "iopub.execute_input": "2024-08-03T14:32:26.254885Z",
     "iopub.status.busy": "2024-08-03T14:32:26.254627Z",
     "iopub.status.idle": "2024-08-03T14:32:27.097418Z",
     "shell.execute_reply": "2024-08-03T14:32:27.096391Z"
    },
    "id": "1AHlOdLH8jD1",
    "outputId": "3728d3bd-231f-4262-c7f8-c0dd949db82b",
    "papermill": {
     "duration": 0.853293,
     "end_time": "2024-08-03T14:32:27.099546",
     "exception": false,
     "start_time": "2024-08-03T14:32:26.246253",
     "status": "completed"
    },
    "tags": []
   },
   "outputs": [
    {
     "name": "stdout",
     "output_type": "stream",
     "text": [
      "Shape of primary_caps: (None, 20, 20, 128)\n"
     ]
    }
   ],
   "source": [
    "input_image = layers.Input(shape=(img_size, img_size, 1))\n",
    "conv1 = layers.Conv2D(128, (9, 9), activation='relu')(input_image)\n",
    "conv2 = layers.Conv2D(128, (9, 9), strides=(2, 2), activation='relu')(conv1)\n",
    "conv2 = layers.MaxPooling2D(pool_size=(2, 2))(conv2)\n",
    "conv2 = layers.BatchNormalization()(conv2)\n",
    "conv2 = layers.Dropout(0.3)(conv2)\n",
    "primary_caps = layers.Conv2D(32 * 4, (9, 9), activation='relu')(conv2)\n",
    "primary_caps_reshape = layers.Reshape((-1, 128))(primary_caps)\n",
    "\n",
    "print(\"Shape of primary_caps:\", primary_caps.shape)"
   ]
  },
  {
   "cell_type": "markdown",
   "id": "abd3426b",
   "metadata": {
    "papermill": {
     "duration": 0.007592,
     "end_time": "2024-08-03T14:32:27.115467",
     "exception": false,
     "start_time": "2024-08-03T14:32:27.107875",
     "status": "completed"
    },
    "tags": []
   },
   "source": [
    "### Adjust reshape layer based on printed shape\n"
   ]
  },
  {
   "cell_type": "code",
   "execution_count": 9,
   "id": "a308c836",
   "metadata": {
    "execution": {
     "iopub.execute_input": "2024-08-03T14:32:27.132729Z",
     "iopub.status.busy": "2024-08-03T14:32:27.132435Z",
     "iopub.status.idle": "2024-08-03T14:32:27.181993Z",
     "shell.execute_reply": "2024-08-03T14:32:27.181112Z"
    },
    "papermill": {
     "duration": 0.060798,
     "end_time": "2024-08-03T14:32:27.183981",
     "exception": false,
     "start_time": "2024-08-03T14:32:27.123183",
     "status": "completed"
    },
    "tags": []
   },
   "outputs": [
    {
     "data": {
      "text/html": [
       "<pre style=\"white-space:pre;overflow-x:auto;line-height:normal;font-family:Menlo,'DejaVu Sans Mono',consolas,'Courier New',monospace\"><span style=\"font-weight: bold\">Model: \"functional\"</span>\n",
       "</pre>\n"
      ],
      "text/plain": [
       "\u001b[1mModel: \"functional\"\u001b[0m\n"
      ]
     },
     "metadata": {},
     "output_type": "display_data"
    },
    {
     "data": {
      "text/html": [
       "<pre style=\"white-space:pre;overflow-x:auto;line-height:normal;font-family:Menlo,'DejaVu Sans Mono',consolas,'Courier New',monospace\">┏━━━━━━━━━━━━━━━━━━━━━━━━━━━━━━━━━┳━━━━━━━━━━━━━━━━━━━━━━━━┳━━━━━━━━━━━━━━━┓\n",
       "┃<span style=\"font-weight: bold\"> Layer (type)                    </span>┃<span style=\"font-weight: bold\"> Output Shape           </span>┃<span style=\"font-weight: bold\">       Param # </span>┃\n",
       "┡━━━━━━━━━━━━━━━━━━━━━━━━━━━━━━━━━╇━━━━━━━━━━━━━━━━━━━━━━━━╇━━━━━━━━━━━━━━━┩\n",
       "│ input_layer (<span style=\"color: #0087ff; text-decoration-color: #0087ff\">InputLayer</span>)        │ (<span style=\"color: #00d7ff; text-decoration-color: #00d7ff\">None</span>, <span style=\"color: #00af00; text-decoration-color: #00af00\">128</span>, <span style=\"color: #00af00; text-decoration-color: #00af00\">128</span>, <span style=\"color: #00af00; text-decoration-color: #00af00\">1</span>)    │             <span style=\"color: #00af00; text-decoration-color: #00af00\">0</span> │\n",
       "├─────────────────────────────────┼────────────────────────┼───────────────┤\n",
       "│ conv2d (<span style=\"color: #0087ff; text-decoration-color: #0087ff\">Conv2D</span>)                 │ (<span style=\"color: #00d7ff; text-decoration-color: #00d7ff\">None</span>, <span style=\"color: #00af00; text-decoration-color: #00af00\">120</span>, <span style=\"color: #00af00; text-decoration-color: #00af00\">120</span>, <span style=\"color: #00af00; text-decoration-color: #00af00\">128</span>)  │        <span style=\"color: #00af00; text-decoration-color: #00af00\">10,496</span> │\n",
       "├─────────────────────────────────┼────────────────────────┼───────────────┤\n",
       "│ conv2d_1 (<span style=\"color: #0087ff; text-decoration-color: #0087ff\">Conv2D</span>)               │ (<span style=\"color: #00d7ff; text-decoration-color: #00d7ff\">None</span>, <span style=\"color: #00af00; text-decoration-color: #00af00\">56</span>, <span style=\"color: #00af00; text-decoration-color: #00af00\">56</span>, <span style=\"color: #00af00; text-decoration-color: #00af00\">128</span>)    │     <span style=\"color: #00af00; text-decoration-color: #00af00\">1,327,232</span> │\n",
       "├─────────────────────────────────┼────────────────────────┼───────────────┤\n",
       "│ max_pooling2d (<span style=\"color: #0087ff; text-decoration-color: #0087ff\">MaxPooling2D</span>)    │ (<span style=\"color: #00d7ff; text-decoration-color: #00d7ff\">None</span>, <span style=\"color: #00af00; text-decoration-color: #00af00\">28</span>, <span style=\"color: #00af00; text-decoration-color: #00af00\">28</span>, <span style=\"color: #00af00; text-decoration-color: #00af00\">128</span>)    │             <span style=\"color: #00af00; text-decoration-color: #00af00\">0</span> │\n",
       "├─────────────────────────────────┼────────────────────────┼───────────────┤\n",
       "│ batch_normalization             │ (<span style=\"color: #00d7ff; text-decoration-color: #00d7ff\">None</span>, <span style=\"color: #00af00; text-decoration-color: #00af00\">28</span>, <span style=\"color: #00af00; text-decoration-color: #00af00\">28</span>, <span style=\"color: #00af00; text-decoration-color: #00af00\">128</span>)    │           <span style=\"color: #00af00; text-decoration-color: #00af00\">512</span> │\n",
       "│ (<span style=\"color: #0087ff; text-decoration-color: #0087ff\">BatchNormalization</span>)            │                        │               │\n",
       "├─────────────────────────────────┼────────────────────────┼───────────────┤\n",
       "│ dropout (<span style=\"color: #0087ff; text-decoration-color: #0087ff\">Dropout</span>)               │ (<span style=\"color: #00d7ff; text-decoration-color: #00d7ff\">None</span>, <span style=\"color: #00af00; text-decoration-color: #00af00\">28</span>, <span style=\"color: #00af00; text-decoration-color: #00af00\">28</span>, <span style=\"color: #00af00; text-decoration-color: #00af00\">128</span>)    │             <span style=\"color: #00af00; text-decoration-color: #00af00\">0</span> │\n",
       "├─────────────────────────────────┼────────────────────────┼───────────────┤\n",
       "│ conv2d_2 (<span style=\"color: #0087ff; text-decoration-color: #0087ff\">Conv2D</span>)               │ (<span style=\"color: #00d7ff; text-decoration-color: #00d7ff\">None</span>, <span style=\"color: #00af00; text-decoration-color: #00af00\">20</span>, <span style=\"color: #00af00; text-decoration-color: #00af00\">20</span>, <span style=\"color: #00af00; text-decoration-color: #00af00\">128</span>)    │     <span style=\"color: #00af00; text-decoration-color: #00af00\">1,327,232</span> │\n",
       "├─────────────────────────────────┼────────────────────────┼───────────────┤\n",
       "│ reshape (<span style=\"color: #0087ff; text-decoration-color: #0087ff\">Reshape</span>)               │ (<span style=\"color: #00d7ff; text-decoration-color: #00d7ff\">None</span>, <span style=\"color: #00af00; text-decoration-color: #00af00\">400</span>, <span style=\"color: #00af00; text-decoration-color: #00af00\">128</span>)       │             <span style=\"color: #00af00; text-decoration-color: #00af00\">0</span> │\n",
       "├─────────────────────────────────┼────────────────────────┼───────────────┤\n",
       "│ capsule_layer (<span style=\"color: #0087ff; text-decoration-color: #0087ff\">CapsuleLayer</span>)    │ (<span style=\"color: #00d7ff; text-decoration-color: #00d7ff\">None</span>, <span style=\"color: #00af00; text-decoration-color: #00af00\">4</span>, <span style=\"color: #00af00; text-decoration-color: #00af00\">16</span>)          │     <span style=\"color: #00af00; text-decoration-color: #00af00\">3,276,800</span> │\n",
       "├─────────────────────────────────┼────────────────────────┼───────────────┤\n",
       "│ length (<span style=\"color: #0087ff; text-decoration-color: #0087ff\">Length</span>)                 │ (<span style=\"color: #00d7ff; text-decoration-color: #00d7ff\">None</span>, <span style=\"color: #00af00; text-decoration-color: #00af00\">4</span>)              │             <span style=\"color: #00af00; text-decoration-color: #00af00\">0</span> │\n",
       "└─────────────────────────────────┴────────────────────────┴───────────────┘\n",
       "</pre>\n"
      ],
      "text/plain": [
       "┏━━━━━━━━━━━━━━━━━━━━━━━━━━━━━━━━━┳━━━━━━━━━━━━━━━━━━━━━━━━┳━━━━━━━━━━━━━━━┓\n",
       "┃\u001b[1m \u001b[0m\u001b[1mLayer (type)                   \u001b[0m\u001b[1m \u001b[0m┃\u001b[1m \u001b[0m\u001b[1mOutput Shape          \u001b[0m\u001b[1m \u001b[0m┃\u001b[1m \u001b[0m\u001b[1m      Param #\u001b[0m\u001b[1m \u001b[0m┃\n",
       "┡━━━━━━━━━━━━━━━━━━━━━━━━━━━━━━━━━╇━━━━━━━━━━━━━━━━━━━━━━━━╇━━━━━━━━━━━━━━━┩\n",
       "│ input_layer (\u001b[38;5;33mInputLayer\u001b[0m)        │ (\u001b[38;5;45mNone\u001b[0m, \u001b[38;5;34m128\u001b[0m, \u001b[38;5;34m128\u001b[0m, \u001b[38;5;34m1\u001b[0m)    │             \u001b[38;5;34m0\u001b[0m │\n",
       "├─────────────────────────────────┼────────────────────────┼───────────────┤\n",
       "│ conv2d (\u001b[38;5;33mConv2D\u001b[0m)                 │ (\u001b[38;5;45mNone\u001b[0m, \u001b[38;5;34m120\u001b[0m, \u001b[38;5;34m120\u001b[0m, \u001b[38;5;34m128\u001b[0m)  │        \u001b[38;5;34m10,496\u001b[0m │\n",
       "├─────────────────────────────────┼────────────────────────┼───────────────┤\n",
       "│ conv2d_1 (\u001b[38;5;33mConv2D\u001b[0m)               │ (\u001b[38;5;45mNone\u001b[0m, \u001b[38;5;34m56\u001b[0m, \u001b[38;5;34m56\u001b[0m, \u001b[38;5;34m128\u001b[0m)    │     \u001b[38;5;34m1,327,232\u001b[0m │\n",
       "├─────────────────────────────────┼────────────────────────┼───────────────┤\n",
       "│ max_pooling2d (\u001b[38;5;33mMaxPooling2D\u001b[0m)    │ (\u001b[38;5;45mNone\u001b[0m, \u001b[38;5;34m28\u001b[0m, \u001b[38;5;34m28\u001b[0m, \u001b[38;5;34m128\u001b[0m)    │             \u001b[38;5;34m0\u001b[0m │\n",
       "├─────────────────────────────────┼────────────────────────┼───────────────┤\n",
       "│ batch_normalization             │ (\u001b[38;5;45mNone\u001b[0m, \u001b[38;5;34m28\u001b[0m, \u001b[38;5;34m28\u001b[0m, \u001b[38;5;34m128\u001b[0m)    │           \u001b[38;5;34m512\u001b[0m │\n",
       "│ (\u001b[38;5;33mBatchNormalization\u001b[0m)            │                        │               │\n",
       "├─────────────────────────────────┼────────────────────────┼───────────────┤\n",
       "│ dropout (\u001b[38;5;33mDropout\u001b[0m)               │ (\u001b[38;5;45mNone\u001b[0m, \u001b[38;5;34m28\u001b[0m, \u001b[38;5;34m28\u001b[0m, \u001b[38;5;34m128\u001b[0m)    │             \u001b[38;5;34m0\u001b[0m │\n",
       "├─────────────────────────────────┼────────────────────────┼───────────────┤\n",
       "│ conv2d_2 (\u001b[38;5;33mConv2D\u001b[0m)               │ (\u001b[38;5;45mNone\u001b[0m, \u001b[38;5;34m20\u001b[0m, \u001b[38;5;34m20\u001b[0m, \u001b[38;5;34m128\u001b[0m)    │     \u001b[38;5;34m1,327,232\u001b[0m │\n",
       "├─────────────────────────────────┼────────────────────────┼───────────────┤\n",
       "│ reshape (\u001b[38;5;33mReshape\u001b[0m)               │ (\u001b[38;5;45mNone\u001b[0m, \u001b[38;5;34m400\u001b[0m, \u001b[38;5;34m128\u001b[0m)       │             \u001b[38;5;34m0\u001b[0m │\n",
       "├─────────────────────────────────┼────────────────────────┼───────────────┤\n",
       "│ capsule_layer (\u001b[38;5;33mCapsuleLayer\u001b[0m)    │ (\u001b[38;5;45mNone\u001b[0m, \u001b[38;5;34m4\u001b[0m, \u001b[38;5;34m16\u001b[0m)          │     \u001b[38;5;34m3,276,800\u001b[0m │\n",
       "├─────────────────────────────────┼────────────────────────┼───────────────┤\n",
       "│ length (\u001b[38;5;33mLength\u001b[0m)                 │ (\u001b[38;5;45mNone\u001b[0m, \u001b[38;5;34m4\u001b[0m)              │             \u001b[38;5;34m0\u001b[0m │\n",
       "└─────────────────────────────────┴────────────────────────┴───────────────┘\n"
      ]
     },
     "metadata": {},
     "output_type": "display_data"
    },
    {
     "data": {
      "text/html": [
       "<pre style=\"white-space:pre;overflow-x:auto;line-height:normal;font-family:Menlo,'DejaVu Sans Mono',consolas,'Courier New',monospace\"><span style=\"font-weight: bold\"> Total params: </span><span style=\"color: #00af00; text-decoration-color: #00af00\">5,942,272</span> (22.67 MB)\n",
       "</pre>\n"
      ],
      "text/plain": [
       "\u001b[1m Total params: \u001b[0m\u001b[38;5;34m5,942,272\u001b[0m (22.67 MB)\n"
      ]
     },
     "metadata": {},
     "output_type": "display_data"
    },
    {
     "data": {
      "text/html": [
       "<pre style=\"white-space:pre;overflow-x:auto;line-height:normal;font-family:Menlo,'DejaVu Sans Mono',consolas,'Courier New',monospace\"><span style=\"font-weight: bold\"> Trainable params: </span><span style=\"color: #00af00; text-decoration-color: #00af00\">5,942,016</span> (22.67 MB)\n",
       "</pre>\n"
      ],
      "text/plain": [
       "\u001b[1m Trainable params: \u001b[0m\u001b[38;5;34m5,942,016\u001b[0m (22.67 MB)\n"
      ]
     },
     "metadata": {},
     "output_type": "display_data"
    },
    {
     "data": {
      "text/html": [
       "<pre style=\"white-space:pre;overflow-x:auto;line-height:normal;font-family:Menlo,'DejaVu Sans Mono',consolas,'Courier New',monospace\"><span style=\"font-weight: bold\"> Non-trainable params: </span><span style=\"color: #00af00; text-decoration-color: #00af00\">256</span> (1.00 KB)\n",
       "</pre>\n"
      ],
      "text/plain": [
       "\u001b[1m Non-trainable params: \u001b[0m\u001b[38;5;34m256\u001b[0m (1.00 KB)\n"
      ]
     },
     "metadata": {},
     "output_type": "display_data"
    }
   ],
   "source": [
    "capsule = CapsuleLayer(num_capsules=len(categories), dim_capsules=16)(primary_caps_reshape)\n",
    "output = Length()(capsule)\n",
    "\n",
    "model = models.Model(inputs=input_image, outputs=output)\n",
    "model.compile(optimizer=optimizers.Adam(learning_rate=1e-4), loss='categorical_crossentropy', metrics=['accuracy'])\n",
    "\n",
    "model.summary()"
   ]
  },
  {
   "cell_type": "code",
   "execution_count": 10,
   "id": "192686bf",
   "metadata": {
    "execution": {
     "iopub.execute_input": "2024-08-03T14:32:27.202394Z",
     "iopub.status.busy": "2024-08-03T14:32:27.202084Z",
     "iopub.status.idle": "2024-08-03T14:32:27.206249Z",
     "shell.execute_reply": "2024-08-03T14:32:27.205478Z"
    },
    "papermill": {
     "duration": 0.015489,
     "end_time": "2024-08-03T14:32:27.208103",
     "exception": false,
     "start_time": "2024-08-03T14:32:27.192614",
     "status": "completed"
    },
    "tags": []
   },
   "outputs": [],
   "source": [
    "early_stopping = tf.keras.callbacks.EarlyStopping(monitor='val_loss', patience=10, restore_best_weights=True)"
   ]
  },
  {
   "cell_type": "code",
   "execution_count": 11,
   "id": "1b29ea2c",
   "metadata": {
    "execution": {
     "iopub.execute_input": "2024-08-03T14:32:27.226543Z",
     "iopub.status.busy": "2024-08-03T14:32:27.226281Z",
     "iopub.status.idle": "2024-08-03T14:32:27.235584Z",
     "shell.execute_reply": "2024-08-03T14:32:27.234921Z"
    },
    "papermill": {
     "duration": 0.020727,
     "end_time": "2024-08-03T14:32:27.237492",
     "exception": false,
     "start_time": "2024-08-03T14:32:27.216765",
     "status": "completed"
    },
    "tags": []
   },
   "outputs": [],
   "source": [
    "class_weights = compute_class_weight('balanced', classes=np.unique(np.argmax(y_train, axis=1)), y=np.argmax(y_train, axis=1))\n",
    "class_weights = dict(enumerate(class_weights))"
   ]
  },
  {
   "cell_type": "code",
   "execution_count": 12,
   "id": "69dae9a5",
   "metadata": {
    "execution": {
     "iopub.execute_input": "2024-08-03T14:32:27.255703Z",
     "iopub.status.busy": "2024-08-03T14:32:27.255447Z",
     "iopub.status.idle": "2024-08-03T14:32:27.259492Z",
     "shell.execute_reply": "2024-08-03T14:32:27.258641Z"
    },
    "papermill": {
     "duration": 0.015407,
     "end_time": "2024-08-03T14:32:27.261614",
     "exception": false,
     "start_time": "2024-08-03T14:32:27.246207",
     "status": "completed"
    },
    "tags": []
   },
   "outputs": [],
   "source": [
    "warnings.filterwarnings('ignore', category=UserWarning, module='keras.src.trainers.data_adapters.py_dataset_adapter')"
   ]
  },
  {
   "cell_type": "markdown",
   "id": "547cd4f3",
   "metadata": {
    "id": "Pak5Al3A8jD2",
    "papermill": {
     "duration": 0.008332,
     "end_time": "2024-08-03T14:32:27.278565",
     "exception": false,
     "start_time": "2024-08-03T14:32:27.270233",
     "status": "completed"
    },
    "tags": []
   },
   "source": [
    "## Training the Model"
   ]
  },
  {
   "cell_type": "code",
   "execution_count": 13,
   "id": "ca538bc3",
   "metadata": {
    "execution": {
     "iopub.execute_input": "2024-08-03T14:32:27.297750Z",
     "iopub.status.busy": "2024-08-03T14:32:27.297050Z",
     "iopub.status.idle": "2024-08-03T14:48:13.599035Z",
     "shell.execute_reply": "2024-08-03T14:48:13.598078Z"
    },
    "id": "4zav01d88jD3",
    "outputId": "7ade61b5-d7c7-4caa-ef03-63b17ae430af",
    "papermill": {
     "duration": 946.313954,
     "end_time": "2024-08-03T14:48:13.601193",
     "exception": false,
     "start_time": "2024-08-03T14:32:27.287239",
     "status": "completed"
    },
    "tags": []
   },
   "outputs": [
    {
     "name": "stdout",
     "output_type": "stream",
     "text": [
      "Epoch 1/50\n",
      "\u001b[1m  1/356\u001b[0m \u001b[37m━━━━━━━━━━━━━━━━━━━━\u001b[0m \u001b[1m1:53:32\u001b[0m 19s/step - accuracy: 0.3750 - loss: 1.4117"
     ]
    },
    {
     "name": "stderr",
     "output_type": "stream",
     "text": [
      "WARNING: All log messages before absl::InitializeLog() is called are written to STDERR\n",
      "I0000 00:00:1722695566.449863      73 device_compiler.h:186] Compiled cluster using XLA!  This line is logged at most once for the lifetime of the process.\n"
     ]
    },
    {
     "name": "stdout",
     "output_type": "stream",
     "text": [
      "\u001b[1m356/356\u001b[0m \u001b[32m━━━━━━━━━━━━━━━━━━━━\u001b[0m\u001b[37m\u001b[0m \u001b[1m90s\u001b[0m 199ms/step - accuracy: 0.2450 - loss: 1.3857 - val_accuracy: 0.2449 - val_loss: 1.3863\n",
      "Epoch 2/50\n",
      "\u001b[1m  1/356\u001b[0m \u001b[37m━━━━━━━━━━━━━━━━━━━━\u001b[0m \u001b[1m29s\u001b[0m 83ms/step - accuracy: 0.1875 - loss: 1.4016"
     ]
    },
    {
     "name": "stderr",
     "output_type": "stream",
     "text": [
      "/opt/conda/lib/python3.10/contextlib.py:153: UserWarning: Your input ran out of data; interrupting training. Make sure that your dataset or generator can generate at least `steps_per_epoch * epochs` batches. You may need to use the `.repeat()` function when building your dataset.\n",
      "  self.gen.throw(typ, value, traceback)\n"
     ]
    },
    {
     "name": "stdout",
     "output_type": "stream",
     "text": [
      "\u001b[1m356/356\u001b[0m \u001b[32m━━━━━━━━━━━━━━━━━━━━\u001b[0m\u001b[37m\u001b[0m \u001b[1m2s\u001b[0m 4ms/step - accuracy: 0.1875 - loss: 1.4016 - val_accuracy: 0.2387 - val_loss: 1.3863\n",
      "Epoch 3/50\n",
      "\u001b[1m356/356\u001b[0m \u001b[32m━━━━━━━━━━━━━━━━━━━━\u001b[0m\u001b[37m\u001b[0m \u001b[1m35s\u001b[0m 97ms/step - accuracy: 0.2215 - loss: 1.3854 - val_accuracy: 0.2571 - val_loss: 1.3863\n",
      "Epoch 4/50\n",
      "\u001b[1m356/356\u001b[0m \u001b[32m━━━━━━━━━━━━━━━━━━━━\u001b[0m\u001b[37m\u001b[0m \u001b[1m2s\u001b[0m 4ms/step - accuracy: 0.2500 - loss: 1.3969 - val_accuracy: 0.2387 - val_loss: 1.3863\n",
      "Epoch 5/50\n",
      "\u001b[1m356/356\u001b[0m \u001b[32m━━━━━━━━━━━━━━━━━━━━\u001b[0m\u001b[37m\u001b[0m \u001b[1m34s\u001b[0m 95ms/step - accuracy: 0.2408 - loss: 1.3873 - val_accuracy: 0.2319 - val_loss: 1.3863\n",
      "Epoch 6/50\n",
      "\u001b[1m356/356\u001b[0m \u001b[32m━━━━━━━━━━━━━━━━━━━━\u001b[0m\u001b[37m\u001b[0m \u001b[1m1s\u001b[0m 4ms/step - accuracy: 0.2500 - loss: 1.3411 - val_accuracy: 0.2624 - val_loss: 1.3863\n",
      "Epoch 7/50\n",
      "\u001b[1m356/356\u001b[0m \u001b[32m━━━━━━━━━━━━━━━━━━━━\u001b[0m\u001b[37m\u001b[0m \u001b[1m34s\u001b[0m 95ms/step - accuracy: 0.2313 - loss: 1.3870 - val_accuracy: 0.2540 - val_loss: 1.3863\n",
      "Epoch 8/50\n",
      "\u001b[1m356/356\u001b[0m \u001b[32m━━━━━━━━━━━━━━━━━━━━\u001b[0m\u001b[37m\u001b[0m \u001b[1m2s\u001b[0m 4ms/step - accuracy: 0.3125 - loss: 1.4329 - val_accuracy: 0.2372 - val_loss: 1.3863\n",
      "Epoch 9/50\n",
      "\u001b[1m356/356\u001b[0m \u001b[32m━━━━━━━━━━━━━━━━━━━━\u001b[0m\u001b[37m\u001b[0m \u001b[1m34s\u001b[0m 95ms/step - accuracy: 0.2487 - loss: 1.3858 - val_accuracy: 0.2319 - val_loss: 1.3863\n",
      "Epoch 10/50\n",
      "\u001b[1m356/356\u001b[0m \u001b[32m━━━━━━━━━━━━━━━━━━━━\u001b[0m\u001b[37m\u001b[0m \u001b[1m2s\u001b[0m 4ms/step - accuracy: 0.3125 - loss: 1.3894 - val_accuracy: 0.2258 - val_loss: 1.3863\n",
      "Epoch 11/50\n",
      "\u001b[1m356/356\u001b[0m \u001b[32m━━━━━━━━━━━━━━━━━━━━\u001b[0m\u001b[37m\u001b[0m \u001b[1m34s\u001b[0m 95ms/step - accuracy: 0.2302 - loss: 1.3864 - val_accuracy: 0.2326 - val_loss: 1.3863\n",
      "Epoch 12/50\n",
      "\u001b[1m356/356\u001b[0m \u001b[32m━━━━━━━━━━━━━━━━━━━━\u001b[0m\u001b[37m\u001b[0m \u001b[1m2s\u001b[0m 4ms/step - accuracy: 0.3750 - loss: 1.4354 - val_accuracy: 0.2311 - val_loss: 1.3863\n",
      "Epoch 13/50\n",
      "\u001b[1m356/356\u001b[0m \u001b[32m━━━━━━━━━━━━━━━━━━━━\u001b[0m\u001b[37m\u001b[0m \u001b[1m34s\u001b[0m 95ms/step - accuracy: 0.2445 - loss: 1.3871 - val_accuracy: 0.2441 - val_loss: 1.3863\n",
      "Epoch 14/50\n",
      "\u001b[1m356/356\u001b[0m \u001b[32m━━━━━━━━━━━━━━━━━━━━\u001b[0m\u001b[37m\u001b[0m \u001b[1m2s\u001b[0m 4ms/step - accuracy: 0.1875 - loss: 1.3719 - val_accuracy: 0.2319 - val_loss: 1.3863\n",
      "Epoch 15/50\n",
      "\u001b[1m356/356\u001b[0m \u001b[32m━━━━━━━━━━━━━━━━━━━━\u001b[0m\u001b[37m\u001b[0m \u001b[1m34s\u001b[0m 95ms/step - accuracy: 0.2405 - loss: 1.3897 - val_accuracy: 0.2441 - val_loss: 1.3863\n",
      "Epoch 16/50\n",
      "\u001b[1m356/356\u001b[0m \u001b[32m━━━━━━━━━━━━━━━━━━━━\u001b[0m\u001b[37m\u001b[0m \u001b[1m2s\u001b[0m 4ms/step - accuracy: 0.2500 - loss: 1.3940 - val_accuracy: 0.2449 - val_loss: 1.3863\n",
      "Epoch 17/50\n",
      "\u001b[1m356/356\u001b[0m \u001b[32m━━━━━━━━━━━━━━━━━━━━\u001b[0m\u001b[37m\u001b[0m \u001b[1m34s\u001b[0m 95ms/step - accuracy: 0.2456 - loss: 1.3845 - val_accuracy: 0.2410 - val_loss: 1.3863\n",
      "Epoch 18/50\n",
      "\u001b[1m356/356\u001b[0m \u001b[32m━━━━━━━━━━━━━━━━━━━━\u001b[0m\u001b[37m\u001b[0m \u001b[1m2s\u001b[0m 4ms/step - accuracy: 0.2500 - loss: 1.3719 - val_accuracy: 0.2433 - val_loss: 1.3863\n",
      "Epoch 19/50\n",
      "\u001b[1m356/356\u001b[0m \u001b[32m━━━━━━━━━━━━━━━━━━━━\u001b[0m\u001b[37m\u001b[0m \u001b[1m34s\u001b[0m 95ms/step - accuracy: 0.2477 - loss: 1.3872 - val_accuracy: 0.2265 - val_loss: 1.3863\n",
      "Epoch 20/50\n",
      "\u001b[1m356/356\u001b[0m \u001b[32m━━━━━━━━━━━━━━━━━━━━\u001b[0m\u001b[37m\u001b[0m \u001b[1m2s\u001b[0m 4ms/step - accuracy: 0.1250 - loss: 1.4016 - val_accuracy: 0.2441 - val_loss: 1.3863\n",
      "Epoch 21/50\n",
      "\u001b[1m356/356\u001b[0m \u001b[32m━━━━━━━━━━━━━━━━━━━━\u001b[0m\u001b[37m\u001b[0m \u001b[1m34s\u001b[0m 95ms/step - accuracy: 0.2494 - loss: 1.3858 - val_accuracy: 0.2304 - val_loss: 1.3863\n",
      "Epoch 22/50\n",
      "\u001b[1m356/356\u001b[0m \u001b[32m━━━━━━━━━━━━━━━━━━━━\u001b[0m\u001b[37m\u001b[0m \u001b[1m2s\u001b[0m 4ms/step - accuracy: 0.2500 - loss: 1.3843 - val_accuracy: 0.2387 - val_loss: 1.3863\n",
      "Epoch 23/50\n",
      "\u001b[1m356/356\u001b[0m \u001b[32m━━━━━━━━━━━━━━━━━━━━\u001b[0m\u001b[37m\u001b[0m \u001b[1m34s\u001b[0m 95ms/step - accuracy: 0.2244 - loss: 1.3855 - val_accuracy: 0.2357 - val_loss: 1.3863\n",
      "Epoch 24/50\n",
      "\u001b[1m356/356\u001b[0m \u001b[32m━━━━━━━━━━━━━━━━━━━━\u001b[0m\u001b[37m\u001b[0m \u001b[1m2s\u001b[0m 4ms/step - accuracy: 0.1875 - loss: 1.3991 - val_accuracy: 0.2296 - val_loss: 1.3863\n",
      "Epoch 25/50\n",
      "\u001b[1m356/356\u001b[0m \u001b[32m━━━━━━━━━━━━━━━━━━━━\u001b[0m\u001b[37m\u001b[0m \u001b[1m34s\u001b[0m 95ms/step - accuracy: 0.2281 - loss: 1.3854 - val_accuracy: 0.2357 - val_loss: 1.3863\n",
      "Epoch 26/50\n",
      "\u001b[1m356/356\u001b[0m \u001b[32m━━━━━━━━━━━━━━━━━━━━\u001b[0m\u001b[37m\u001b[0m \u001b[1m2s\u001b[0m 4ms/step - accuracy: 0.2500 - loss: 1.3545 - val_accuracy: 0.2235 - val_loss: 1.3863\n",
      "Epoch 27/50\n",
      "\u001b[1m356/356\u001b[0m \u001b[32m━━━━━━━━━━━━━━━━━━━━\u001b[0m\u001b[37m\u001b[0m \u001b[1m34s\u001b[0m 95ms/step - accuracy: 0.2467 - loss: 1.3847 - val_accuracy: 0.2410 - val_loss: 1.3863\n",
      "Epoch 28/50\n",
      "\u001b[1m356/356\u001b[0m \u001b[32m━━━━━━━━━━━━━━━━━━━━\u001b[0m\u001b[37m\u001b[0m \u001b[1m2s\u001b[0m 4ms/step - accuracy: 0.3750 - loss: 1.4166 - val_accuracy: 0.2380 - val_loss: 1.3863\n",
      "Epoch 29/50\n",
      "\u001b[1m356/356\u001b[0m \u001b[32m━━━━━━━━━━━━━━━━━━━━\u001b[0m\u001b[37m\u001b[0m \u001b[1m34s\u001b[0m 95ms/step - accuracy: 0.2348 - loss: 1.3858 - val_accuracy: 0.2342 - val_loss: 1.3863\n",
      "Epoch 30/50\n",
      "\u001b[1m356/356\u001b[0m \u001b[32m━━━━━━━━━━━━━━━━━━━━\u001b[0m\u001b[37m\u001b[0m \u001b[1m2s\u001b[0m 4ms/step - accuracy: 0.0625 - loss: 1.3591 - val_accuracy: 0.2456 - val_loss: 1.3863\n",
      "Epoch 31/50\n",
      "\u001b[1m356/356\u001b[0m \u001b[32m━━━━━━━━━━━━━━━━━━━━\u001b[0m\u001b[37m\u001b[0m \u001b[1m34s\u001b[0m 95ms/step - accuracy: 0.2457 - loss: 1.3864 - val_accuracy: 0.2281 - val_loss: 1.3863\n",
      "Epoch 32/50\n",
      "\u001b[1m356/356\u001b[0m \u001b[32m━━━━━━━━━━━━━━━━━━━━\u001b[0m\u001b[37m\u001b[0m \u001b[1m2s\u001b[0m 4ms/step - accuracy: 0.2500 - loss: 1.3808 - val_accuracy: 0.2220 - val_loss: 1.3863\n",
      "Epoch 33/50\n",
      "\u001b[1m356/356\u001b[0m \u001b[32m━━━━━━━━━━━━━━━━━━━━\u001b[0m\u001b[37m\u001b[0m \u001b[1m34s\u001b[0m 95ms/step - accuracy: 0.2296 - loss: 1.3861 - val_accuracy: 0.2258 - val_loss: 1.3863\n",
      "Epoch 34/50\n",
      "\u001b[1m356/356\u001b[0m \u001b[32m━━━━━━━━━━━━━━━━━━━━\u001b[0m\u001b[37m\u001b[0m \u001b[1m2s\u001b[0m 4ms/step - accuracy: 0.2500 - loss: 1.3969 - val_accuracy: 0.2403 - val_loss: 1.3863\n",
      "Epoch 35/50\n",
      "\u001b[1m356/356\u001b[0m \u001b[32m━━━━━━━━━━━━━━━━━━━━\u001b[0m\u001b[37m\u001b[0m \u001b[1m34s\u001b[0m 95ms/step - accuracy: 0.2330 - loss: 1.3887 - val_accuracy: 0.2372 - val_loss: 1.3863\n",
      "Epoch 36/50\n",
      "\u001b[1m356/356\u001b[0m \u001b[32m━━━━━━━━━━━━━━━━━━━━\u001b[0m\u001b[37m\u001b[0m \u001b[1m2s\u001b[0m 4ms/step - accuracy: 0.3125 - loss: 1.3471 - val_accuracy: 0.2250 - val_loss: 1.3863\n",
      "Epoch 37/50\n",
      "\u001b[1m356/356\u001b[0m \u001b[32m━━━━━━━━━━━━━━━━━━━━\u001b[0m\u001b[37m\u001b[0m \u001b[1m34s\u001b[0m 95ms/step - accuracy: 0.2331 - loss: 1.3862 - val_accuracy: 0.2426 - val_loss: 1.3863\n",
      "Epoch 38/50\n",
      "\u001b[1m356/356\u001b[0m \u001b[32m━━━━━━━━━━━━━━━━━━━━\u001b[0m\u001b[37m\u001b[0m \u001b[1m2s\u001b[0m 4ms/step - accuracy: 0.1875 - loss: 1.3617 - val_accuracy: 0.2510 - val_loss: 1.3863\n",
      "Epoch 39/50\n",
      "\u001b[1m356/356\u001b[0m \u001b[32m━━━━━━━━━━━━━━━━━━━━\u001b[0m\u001b[37m\u001b[0m \u001b[1m34s\u001b[0m 95ms/step - accuracy: 0.2402 - loss: 1.3866 - val_accuracy: 0.2441 - val_loss: 1.3863\n",
      "Epoch 40/50\n",
      "\u001b[1m356/356\u001b[0m \u001b[32m━━━━━━━━━━━━━━━━━━━━\u001b[0m\u001b[37m\u001b[0m \u001b[1m2s\u001b[0m 4ms/step - accuracy: 0.1250 - loss: 1.3618 - val_accuracy: 0.2334 - val_loss: 1.3863\n",
      "Epoch 41/50\n",
      "\u001b[1m356/356\u001b[0m \u001b[32m━━━━━━━━━━━━━━━━━━━━\u001b[0m\u001b[37m\u001b[0m \u001b[1m34s\u001b[0m 95ms/step - accuracy: 0.2310 - loss: 1.3909 - val_accuracy: 0.2410 - val_loss: 1.3863\n",
      "Epoch 42/50\n",
      "\u001b[1m356/356\u001b[0m \u001b[32m━━━━━━━━━━━━━━━━━━━━\u001b[0m\u001b[37m\u001b[0m \u001b[1m2s\u001b[0m 4ms/step - accuracy: 0.2500 - loss: 1.3680 - val_accuracy: 0.2449 - val_loss: 1.3863\n",
      "Epoch 43/50\n",
      "\u001b[1m356/356\u001b[0m \u001b[32m━━━━━━━━━━━━━━━━━━━━\u001b[0m\u001b[37m\u001b[0m \u001b[1m34s\u001b[0m 95ms/step - accuracy: 0.2319 - loss: 1.3863 - val_accuracy: 0.2113 - val_loss: 1.3863\n",
      "Epoch 44/50\n",
      "\u001b[1m356/356\u001b[0m \u001b[32m━━━━━━━━━━━━━━━━━━━━\u001b[0m\u001b[37m\u001b[0m \u001b[1m2s\u001b[0m 4ms/step - accuracy: 0.2500 - loss: 1.3647 - val_accuracy: 0.2380 - val_loss: 1.3863\n",
      "Epoch 45/50\n",
      "\u001b[1m356/356\u001b[0m \u001b[32m━━━━━━━━━━━━━━━━━━━━\u001b[0m\u001b[37m\u001b[0m \u001b[1m34s\u001b[0m 95ms/step - accuracy: 0.2384 - loss: 1.3843 - val_accuracy: 0.2441 - val_loss: 1.3863\n",
      "Epoch 46/50\n",
      "\u001b[1m356/356\u001b[0m \u001b[32m━━━━━━━━━━━━━━━━━━━━\u001b[0m\u001b[37m\u001b[0m \u001b[1m2s\u001b[0m 4ms/step - accuracy: 0.2500 - loss: 1.4015 - val_accuracy: 0.2265 - val_loss: 1.3863\n",
      "Epoch 47/50\n",
      "\u001b[1m356/356\u001b[0m \u001b[32m━━━━━━━━━━━━━━━━━━━━\u001b[0m\u001b[37m\u001b[0m \u001b[1m34s\u001b[0m 95ms/step - accuracy: 0.2491 - loss: 1.3863 - val_accuracy: 0.2456 - val_loss: 1.3863\n",
      "Epoch 48/50\n",
      "\u001b[1m356/356\u001b[0m \u001b[32m━━━━━━━━━━━━━━━━━━━━\u001b[0m\u001b[37m\u001b[0m \u001b[1m2s\u001b[0m 4ms/step - accuracy: 0.1250 - loss: 1.3321 - val_accuracy: 0.2326 - val_loss: 1.3863\n",
      "Epoch 49/50\n",
      "\u001b[1m356/356\u001b[0m \u001b[32m━━━━━━━━━━━━━━━━━━━━\u001b[0m\u001b[37m\u001b[0m \u001b[1m34s\u001b[0m 95ms/step - accuracy: 0.2405 - loss: 1.3896 - val_accuracy: 0.2410 - val_loss: 1.3863\n",
      "Epoch 50/50\n",
      "\u001b[1m356/356\u001b[0m \u001b[32m━━━━━━━━━━━━━━━━━━━━\u001b[0m\u001b[37m\u001b[0m \u001b[1m2s\u001b[0m 4ms/step - accuracy: 0.3125 - loss: 1.3793 - val_accuracy: 0.2281 - val_loss: 1.3863\n"
     ]
    }
   ],
   "source": [
    "history = model.fit(\n",
    "    train_generator,\n",
    "    steps_per_epoch=len(X_train) // batch_size,\n",
    "    epochs=epochs,\n",
    "    validation_data=(X_test, y_test),\n",
    "    class_weight=class_weights\n",
    ")"
   ]
  },
  {
   "cell_type": "markdown",
   "id": "890dd956",
   "metadata": {
    "id": "VJh79t5F8jD4",
    "papermill": {
     "duration": 0.75583,
     "end_time": "2024-08-03T14:48:15.111669",
     "exception": false,
     "start_time": "2024-08-03T14:48:14.355839",
     "status": "completed"
    },
    "tags": []
   },
   "source": [
    "### Save the model"
   ]
  },
  {
   "cell_type": "code",
   "execution_count": 14,
   "id": "07077efc",
   "metadata": {
    "execution": {
     "iopub.execute_input": "2024-08-03T14:48:16.678576Z",
     "iopub.status.busy": "2024-08-03T14:48:16.678193Z",
     "iopub.status.idle": "2024-08-03T14:48:16.817624Z",
     "shell.execute_reply": "2024-08-03T14:48:16.816606Z"
    },
    "id": "QDgJerRi8jD5",
    "papermill": {
     "duration": 0.906799,
     "end_time": "2024-08-03T14:48:16.819899",
     "exception": false,
     "start_time": "2024-08-03T14:48:15.913100",
     "status": "completed"
    },
    "tags": []
   },
   "outputs": [],
   "source": [
    "model.save(\"capsnet_brain_tumor_model.h5\")"
   ]
  },
  {
   "cell_type": "code",
   "execution_count": 15,
   "id": "58764a06",
   "metadata": {
    "execution": {
     "iopub.execute_input": "2024-08-03T14:48:18.467018Z",
     "iopub.status.busy": "2024-08-03T14:48:18.466655Z",
     "iopub.status.idle": "2024-08-03T14:48:18.809713Z",
     "shell.execute_reply": "2024-08-03T14:48:18.808924Z"
    },
    "id": "vSEccfQJGobw",
    "papermill": {
     "duration": 1.240546,
     "end_time": "2024-08-03T14:48:18.812026",
     "exception": false,
     "start_time": "2024-08-03T14:48:17.571480",
     "status": "completed"
    },
    "tags": []
   },
   "outputs": [],
   "source": [
    "model.save('capsnet_brain_tumor_model.keras')"
   ]
  },
  {
   "cell_type": "markdown",
   "id": "4e1a3024",
   "metadata": {
    "id": "8lmQbOR78jD5",
    "papermill": {
     "duration": 0.802798,
     "end_time": "2024-08-03T14:48:20.411372",
     "exception": false,
     "start_time": "2024-08-03T14:48:19.608574",
     "status": "completed"
    },
    "tags": []
   },
   "source": [
    "### Evaluate the model"
   ]
  },
  {
   "cell_type": "code",
   "execution_count": 16,
   "id": "980d57e9",
   "metadata": {
    "execution": {
     "iopub.execute_input": "2024-08-03T14:48:22.003804Z",
     "iopub.status.busy": "2024-08-03T14:48:22.003414Z",
     "iopub.status.idle": "2024-08-03T14:48:23.690699Z",
     "shell.execute_reply": "2024-08-03T14:48:23.689691Z"
    },
    "id": "ZD8YHU5b8jD6",
    "papermill": {
     "duration": 2.447597,
     "end_time": "2024-08-03T14:48:23.692991",
     "exception": false,
     "start_time": "2024-08-03T14:48:21.245394",
     "status": "completed"
    },
    "tags": []
   },
   "outputs": [
    {
     "name": "stdout",
     "output_type": "stream",
     "text": [
      "Test loss: 1.386294960975647\n",
      "Test accuracy: 0.22807016968727112\n"
     ]
    }
   ],
   "source": [
    "score = model.evaluate(X_test, y_test, verbose=0)\n",
    "print('Test loss:', score[0])\n",
    "print('Test accuracy:', score[1])"
   ]
  },
  {
   "cell_type": "markdown",
   "id": "05ec57d8",
   "metadata": {
    "id": "0OMcbcBO8jD6",
    "papermill": {
     "duration": 0.807917,
     "end_time": "2024-08-03T14:48:25.247405",
     "exception": false,
     "start_time": "2024-08-03T14:48:24.439488",
     "status": "completed"
    },
    "tags": []
   },
   "source": [
    "### Generate classification report"
   ]
  },
  {
   "cell_type": "code",
   "execution_count": 17,
   "id": "dd15193f",
   "metadata": {
    "execution": {
     "iopub.execute_input": "2024-08-03T14:48:26.754808Z",
     "iopub.status.busy": "2024-08-03T14:48:26.754474Z",
     "iopub.status.idle": "2024-08-03T14:48:29.911712Z",
     "shell.execute_reply": "2024-08-03T14:48:29.910715Z"
    },
    "id": "2q-yVY0V8jD6",
    "papermill": {
     "duration": 3.916849,
     "end_time": "2024-08-03T14:48:29.913822",
     "exception": false,
     "start_time": "2024-08-03T14:48:25.996973",
     "status": "completed"
    },
    "tags": []
   },
   "outputs": [
    {
     "name": "stdout",
     "output_type": "stream",
     "text": [
      "\u001b[1m41/41\u001b[0m \u001b[32m━━━━━━━━━━━━━━━━━━━━\u001b[0m\u001b[37m\u001b[0m \u001b[1m3s\u001b[0m 54ms/step\n",
      "              precision    recall  f1-score   support\n",
      "\n",
      "      glioma       0.22      0.59      0.32       300\n",
      "  meningioma       0.22      0.22      0.22       306\n",
      "     notumor       0.27      0.08      0.12       405\n",
      "   pituitary       0.25      0.06      0.09       300\n",
      "\n",
      "    accuracy                           0.23      1311\n",
      "   macro avg       0.24      0.24      0.19      1311\n",
      "weighted avg       0.24      0.23      0.18      1311\n",
      "\n"
     ]
    }
   ],
   "source": [
    "y_pred = model.predict(X_test)\n",
    "y_pred_classes = np.argmax(y_pred, axis=1)\n",
    "y_true = np.argmax(y_test, axis=1)\n",
    "print(classification_report(y_true, y_pred_classes, target_names=categories))"
   ]
  },
  {
   "cell_type": "markdown",
   "id": "c6db9d6c",
   "metadata": {
    "id": "T9s9BrKb8jD6",
    "papermill": {
     "duration": 0.747699,
     "end_time": "2024-08-03T14:48:31.488309",
     "exception": false,
     "start_time": "2024-08-03T14:48:30.740610",
     "status": "completed"
    },
    "tags": []
   },
   "source": [
    "### Confusion matrix"
   ]
  },
  {
   "cell_type": "code",
   "execution_count": 18,
   "id": "654946cb",
   "metadata": {
    "execution": {
     "iopub.execute_input": "2024-08-03T14:48:33.053046Z",
     "iopub.status.busy": "2024-08-03T14:48:33.052679Z",
     "iopub.status.idle": "2024-08-03T14:48:33.060547Z",
     "shell.execute_reply": "2024-08-03T14:48:33.059376Z"
    },
    "id": "myba49Sj8jD6",
    "papermill": {
     "duration": 0.824071,
     "end_time": "2024-08-03T14:48:33.062473",
     "exception": false,
     "start_time": "2024-08-03T14:48:32.238402",
     "status": "completed"
    },
    "tags": []
   },
   "outputs": [
    {
     "name": "stdout",
     "output_type": "stream",
     "text": [
      "[[178  76  26  20]\n",
      " [189  68  34  15]\n",
      " [269  88  33  15]\n",
      " [178  74  31  17]]\n"
     ]
    }
   ],
   "source": [
    "conf_matrix = confusion_matrix(y_true, y_pred_classes)\n",
    "print(conf_matrix)"
   ]
  }
 ],
 "metadata": {
  "colab": {
   "include_colab_link": true,
   "provenance": []
  },
  "kaggle": {
   "accelerator": "nvidiaTeslaT4",
   "dataSources": [
    {
     "datasetId": 165566,
     "sourceId": 377107,
     "sourceType": "datasetVersion"
    },
    {
     "datasetId": 5480669,
     "sourceId": 9083678,
     "sourceType": "datasetVersion"
    }
   ],
   "dockerImageVersionId": 30747,
   "isGpuEnabled": true,
   "isInternetEnabled": false,
   "language": "python",
   "sourceType": "notebook"
  },
  "kernelspec": {
   "display_name": "Python 3",
   "language": "python",
   "name": "python3"
  },
  "language_info": {
   "codemirror_mode": {
    "name": "ipython",
    "version": 3
   },
   "file_extension": ".py",
   "mimetype": "text/x-python",
   "name": "python",
   "nbconvert_exporter": "python",
   "pygments_lexer": "ipython3",
   "version": "3.10.13"
  },
  "papermill": {
   "default_parameters": {},
   "duration": 1032.948903,
   "end_time": "2024-08-03T14:48:36.394138",
   "environment_variables": {},
   "exception": null,
   "input_path": "__notebook__.ipynb",
   "output_path": "__notebook__.ipynb",
   "parameters": {},
   "start_time": "2024-08-03T14:31:23.445235",
   "version": "2.5.0"
  }
 },
 "nbformat": 4,
 "nbformat_minor": 5
}
