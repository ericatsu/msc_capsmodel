{
  "cells": [
    {
      "cell_type": "markdown",
      "metadata": {
        "id": "view-in-github",
        "colab_type": "text"
      },
      "source": [
        "<a href=\"https://colab.research.google.com/github/ericatsu/msc_capsmodel/blob/main/caps_mri.ipynb\" target=\"_parent\"><img src=\"https://colab.research.google.com/assets/colab-badge.svg\" alt=\"Open In Colab\"/></a>"
      ]
    },
    {
      "cell_type": "markdown",
      "metadata": {
        "id": "8KHNTr-P8jDj"
      },
      "source": [
        "## Libraries"
      ]
    },
    {
      "cell_type": "code",
      "execution_count": 6,
      "metadata": {
        "id": "CWzclXTH3tmL"
      },
      "outputs": [],
      "source": [
        "import os\n",
        "import numpy as np\n",
        "import tensorflow as tf\n",
        "from tensorflow.keras.preprocessing.image import ImageDataGenerator\n",
        "from tensorflow.keras import layers, models, optimizers\n",
        "from tensorflow.keras.utils import to_categorical\n",
        "from sklearn.model_selection import train_test_split\n",
        "from sklearn.metrics import classification_report, confusion_matrix\n",
        "import matplotlib.pyplot as plt\n",
        "from google.colab import drive\n",
        "from collections import Counter\n",
        "from sklearn.utils.class_weight import compute_class_weight"
      ]
    },
    {
      "cell_type": "markdown",
      "metadata": {
        "id": "J5DkhcuE8jDw"
      },
      "source": [
        "## Dateset and Parameters"
      ]
    },
    {
      "cell_type": "code",
      "execution_count": 7,
      "metadata": {
        "colab": {
          "base_uri": "https://localhost:8080/"
        },
        "id": "WQr0T47m8jDx",
        "outputId": "e0efac8c-7ca6-4a14-ffa1-8bddbda9b7ed"
      },
      "outputs": [
        {
          "output_type": "stream",
          "name": "stdout",
          "text": [
            "Mounted at /content/drive\n"
          ]
        }
      ],
      "source": [
        "drive.mount('/content/drive', force_remount=True)\n",
        "\n",
        "base_dir = \"/content/drive/MyDrive/msc_capsmodel/dataset\"\n",
        "test_dir = os.path.join(base_dir, 'testing')\n",
        "train_dir = os.path.join(base_dir, 'training')\n",
        "categories = ['glioma', 'meningioma', 'notumor', 'pituitary']\n",
        "\n",
        "img_size = 128\n",
        "batch_size = 16\n",
        "epochs = 50"
      ]
    },
    {
      "cell_type": "markdown",
      "metadata": {
        "id": "l7zFOq8a8jDx"
      },
      "source": [
        "## Data Preparation"
      ]
    },
    {
      "cell_type": "code",
      "execution_count": 8,
      "metadata": {
        "id": "ybyfY-7F8jDy",
        "collapsed": true
      },
      "outputs": [],
      "source": [
        "def prepare_data(directory, categories, img_size):\n",
        "    data = []\n",
        "    labels = []\n",
        "    for category in categories:\n",
        "        path = os.path.join(directory, category)\n",
        "        class_num = categories.index(category)\n",
        "        for img in os.listdir(path):\n",
        "            try:\n",
        "                img_array = tf.keras.preprocessing.image.load_img(os.path.join(path, img), target_size=(img_size, img_size), color_mode=\"grayscale\")\n",
        "                img_array = tf.keras.preprocessing.image.img_to_array(img_array)\n",
        "                img_array = img_array / 255.0\n",
        "                data.append(img_array)\n",
        "                labels.append(class_num)\n",
        "            except Exception as e:\n",
        "                print(f\"Failed to read image: {os.path.join(path, img)}, error: {e}\")  # Debug statement\n",
        "    return np.array(data), np.array(labels)\n",
        "\n",
        "# Load and preprocess data\n",
        "X_train, y_train = prepare_data(train_dir, categories, img_size)\n",
        "X_test, y_test = prepare_data(test_dir, categories, img_size)\n",
        "y_train = to_categorical(y_train, num_classes=len(categories))\n",
        "y_test = to_categorical(y_test, num_classes=len(categories))"
      ]
    },
    {
      "cell_type": "code",
      "source": [
        "print(f\"Training samples: {X_train.shape[0]}\")\n",
        "print(f\"Testing samples: {X_test.shape[0]}\")"
      ],
      "metadata": {
        "colab": {
          "base_uri": "https://localhost:8080/"
        },
        "id": "B_YY7qj1oteP",
        "outputId": "d02cc23b-50d9-4138-b1d7-8658b995207d"
      },
      "execution_count": 9,
      "outputs": [
        {
          "output_type": "stream",
          "name": "stdout",
          "text": [
            "Training samples: 5711\n",
            "Testing samples: 1311\n"
          ]
        }
      ]
    },
    {
      "cell_type": "code",
      "source": [
        "print(f\"Training class distribution: {Counter(np.argmax(y_train, axis=1))}\")\n",
        "print(f\"Testing class distribution: {Counter(np.argmax(y_test, axis=1))}\")"
      ],
      "metadata": {
        "colab": {
          "base_uri": "https://localhost:8080/"
        },
        "id": "67Z64dvsE0nx",
        "outputId": "afa43c4d-dc64-43b1-da63-6dcef51bdc77"
      },
      "execution_count": 10,
      "outputs": [
        {
          "output_type": "stream",
          "name": "stdout",
          "text": [
            "Training class distribution: Counter({2: 1595, 3: 1457, 1: 1339, 0: 1320})\n",
            "Testing class distribution: Counter({2: 405, 1: 306, 0: 300, 3: 300})\n"
          ]
        }
      ]
    },
    {
      "cell_type": "markdown",
      "metadata": {
        "id": "XlDByQb08jDy"
      },
      "source": [
        "### Data Augmentation"
      ]
    },
    {
      "cell_type": "code",
      "execution_count": 11,
      "metadata": {
        "id": "QaTDqRKX8jDz"
      },
      "outputs": [],
      "source": [
        "datagen = ImageDataGenerator(\n",
        "    rotation_range=15,\n",
        "    width_shift_range=0.1,\n",
        "    height_shift_range=0.1,\n",
        "    shear_range=0.1,\n",
        "    zoom_range=0.1,\n",
        "    horizontal_flip=True,\n",
        "    fill_mode='nearest'\n",
        ")\n",
        "train_generator = datagen.flow(X_train, y_train, batch_size=batch_size)\n"
      ]
    },
    {
      "cell_type": "markdown",
      "metadata": {
        "id": "jGoG5pPR8jDz"
      },
      "source": [
        "### Capsule Network Model"
      ]
    },
    {
      "cell_type": "code",
      "execution_count": 12,
      "metadata": {
        "id": "S-XHUkFx8jD0"
      },
      "outputs": [],
      "source": [
        "class CapsuleLayer(layers.Layer):\n",
        "    def __init__(self, num_capsules, dim_capsules, routings=3, **kwargs):\n",
        "        super(CapsuleLayer, self).__init__(**kwargs)\n",
        "        self.num_capsules = num_capsules\n",
        "        self.dim_capsules = dim_capsules\n",
        "        self.routings = routings\n",
        "        self.kernel = None\n",
        "\n",
        "    def build(self, input_shape):\n",
        "        assert len(input_shape) == 3, \"Input shape should be [None, input_capsule_num, input_capsule_dim]\"\n",
        "        self.input_capsule_num = input_shape[1]\n",
        "        self.input_capsule_dim = input_shape[2]\n",
        "        self.kernel = self.add_weight(shape=(self.input_capsule_num, self.num_capsules, self.input_capsule_dim, self.dim_capsules),\n",
        "                                      initializer='glorot_uniform',\n",
        "                                      name='capsule_kernel')\n",
        "\n",
        "    def call(self, inputs, training=None):\n",
        "        inputs_expand = tf.expand_dims(tf.expand_dims(inputs, 2), -1)\n",
        "        inputs_tiled = tf.tile(inputs_expand, [1, 1, self.num_capsules, 1, 1])\n",
        "        inputs_hat = tf.reduce_sum(inputs_tiled * self.kernel, axis=3)\n",
        "\n",
        "        b = tf.zeros(shape=[tf.shape(inputs)[0], self.input_capsule_num, self.num_capsules, 1])\n",
        "        for i in range(self.routings):\n",
        "            c = tf.nn.softmax(b, axis=2)\n",
        "            outputs = tf.reduce_sum(c * inputs_hat, axis=1, keepdims=True)\n",
        "            outputs = tf.squeeze(tf.nn.l2_normalize(outputs, -1), axis=1)\n",
        "            if i < self.routings - 1:\n",
        "                b += tf.reduce_sum(inputs_hat * tf.expand_dims(outputs, 1), -1, keepdims=True)\n",
        "\n",
        "        return outputs\n",
        "\n",
        "    def compute_output_shape(self, input_shape):\n",
        "        return (input_shape[0], self.num_capsules, self.dim_capsules)\n",
        "\n",
        "class Length(layers.Layer):\n",
        "    def call(self, inputs, **kwargs):\n",
        "        return tf.sqrt(tf.reduce_sum(tf.square(inputs), -1) + 1e-9)"
      ]
    },
    {
      "cell_type": "markdown",
      "metadata": {
        "id": "hVKoabkm8jD0"
      },
      "source": [
        "### Define the CapsNet model"
      ]
    },
    {
      "cell_type": "code",
      "execution_count": 13,
      "metadata": {
        "colab": {
          "base_uri": "https://localhost:8080/"
        },
        "id": "1AHlOdLH8jD1",
        "outputId": "31da4242-6e4c-4475-a850-e8b0f72b6333"
      },
      "outputs": [
        {
          "output_type": "stream",
          "name": "stdout",
          "text": [
            "Shape of primary_caps: (None, 48, 48, 256)\n"
          ]
        }
      ],
      "source": [
        "input_image = layers.Input(shape=(img_size, img_size, 1))\n",
        "conv1 = layers.Conv2D(256, (9, 9), activation='relu')(input_image)\n",
        "conv2 = layers.Conv2D(256, (9, 9), strides=(2, 2), activation='relu')(conv1)\n",
        "primary_caps = layers.Conv2D(32 * 8, (9, 9), activation='relu')(conv2)\n",
        "\n",
        "print(\"Shape of primary_caps:\", primary_caps.shape)"
      ]
    },
    {
      "cell_type": "markdown",
      "metadata": {
        "id": "RF9OqIR58jD2"
      },
      "source": [
        "### Adjust reshape layer based on printed shape"
      ]
    },
    {
      "cell_type": "code",
      "execution_count": 14,
      "metadata": {
        "colab": {
          "base_uri": "https://localhost:8080/"
        },
        "id": "KL-Iyb5e8jD2",
        "outputId": "93fa82fa-399b-412d-9832-088afa61928c"
      },
      "outputs": [
        {
          "output_type": "stream",
          "name": "stdout",
          "text": [
            "Model: \"model\"\n",
            "_________________________________________________________________\n",
            " Layer (type)                Output Shape              Param #   \n",
            "=================================================================\n",
            " input_1 (InputLayer)        [(None, 128, 128, 1)]     0         \n",
            "                                                                 \n",
            " conv2d (Conv2D)             (None, 120, 120, 256)     20992     \n",
            "                                                                 \n",
            " conv2d_1 (Conv2D)           (None, 56, 56, 256)       5308672   \n",
            "                                                                 \n",
            " conv2d_2 (Conv2D)           (None, 48, 48, 256)       5308672   \n",
            "                                                                 \n",
            " reshape (Reshape)           (None, 2304, 256)         0         \n",
            "                                                                 \n",
            " capsule_layer (CapsuleLaye  (None, 4, 16)             37748736  \n",
            " r)                                                              \n",
            "                                                                 \n",
            " length (Length)             (None, 4)                 0         \n",
            "                                                                 \n",
            "=================================================================\n",
            "Total params: 48387072 (184.58 MB)\n",
            "Trainable params: 48387072 (184.58 MB)\n",
            "Non-trainable params: 0 (0.00 Byte)\n",
            "_________________________________________________________________\n"
          ]
        }
      ],
      "source": [
        "primary_caps_reshape = layers.Reshape((-1, 256))(primary_caps)\n",
        "capsule = CapsuleLayer(num_capsules=len(categories), dim_capsules=16)(primary_caps_reshape)\n",
        "output = Length()(capsule)\n",
        "\n",
        "model = models.Model(inputs=input_image, outputs=output)\n",
        "model.compile(optimizer=optimizers.Adam(learning_rate=1e-4), loss='categorical_crossentropy', metrics=['accuracy'])\n",
        "\n",
        "model.summary()"
      ]
    },
    {
      "cell_type": "code",
      "source": [
        "class_weights = compute_class_weight('balanced', classes=np.unique(np.argmax(y_train, axis=1)), y=np.argmax(y_train, axis=1))\n",
        "class_weights = dict(enumerate(class_weights))"
      ],
      "metadata": {
        "id": "sEk7y7oyKn8E"
      },
      "execution_count": 15,
      "outputs": []
    },
    {
      "cell_type": "markdown",
      "metadata": {
        "id": "Pak5Al3A8jD2"
      },
      "source": [
        "## Training the Model"
      ]
    },
    {
      "cell_type": "code",
      "execution_count": null,
      "metadata": {
        "colab": {
          "base_uri": "https://localhost:8080/"
        },
        "id": "4zav01d88jD3",
        "outputId": "27be891c-50d2-4e97-9ba5-6c5c6e38c31b"
      },
      "outputs": [
        {
          "output_type": "stream",
          "name": "stdout",
          "text": [
            "Epoch 1/50\n",
            " 15/356 [>.............................] - ETA: 6:43:51 - loss: 1.3832 - accuracy: 0.2833"
          ]
        }
      ],
      "source": [
        "history = model.fit(\n",
        "    train_generator,\n",
        "    steps_per_epoch=len(X_train) // batch_size,\n",
        "    epochs=epochs,\n",
        "    validation_data=(X_test, y_test),\n",
        "    class_weight=class_weights\n",
        ")"
      ]
    },
    {
      "cell_type": "markdown",
      "metadata": {
        "id": "VJh79t5F8jD4"
      },
      "source": [
        "### Save the model"
      ]
    },
    {
      "cell_type": "code",
      "execution_count": null,
      "metadata": {
        "colab": {
          "base_uri": "https://localhost:8080/"
        },
        "id": "QDgJerRi8jD5",
        "outputId": "e916540b-67b3-4f64-cab3-d3dd4e61793e"
      },
      "outputs": [
        {
          "output_type": "stream",
          "name": "stderr",
          "text": [
            "/usr/local/lib/python3.10/dist-packages/keras/src/engine/training.py:3103: UserWarning: You are saving your model as an HDF5 file via `model.save()`. This file format is considered legacy. We recommend using instead the native Keras format, e.g. `model.save('my_model.keras')`.\n",
            "  saving_api.save_model(\n"
          ]
        }
      ],
      "source": [
        "model.save(\"capsnet_brain_tumor_model.h5\")"
      ]
    },
    {
      "cell_type": "code",
      "source": [
        "model.save('capsnet_brain_tumor_model.keras')"
      ],
      "metadata": {
        "id": "vSEccfQJGobw"
      },
      "execution_count": null,
      "outputs": []
    },
    {
      "cell_type": "markdown",
      "metadata": {
        "id": "8lmQbOR78jD5"
      },
      "source": [
        "### Evaluate the model"
      ]
    },
    {
      "cell_type": "code",
      "execution_count": null,
      "metadata": {
        "colab": {
          "base_uri": "https://localhost:8080/"
        },
        "id": "ZD8YHU5b8jD6",
        "outputId": "7e760d21-f3f5-4bc9-b13d-d155e2b087cc"
      },
      "outputs": [
        {
          "output_type": "stream",
          "name": "stdout",
          "text": [
            "Test loss: 2.5896432399749756\n",
            "Test accuracy: 0.22883294522762299\n"
          ]
        }
      ],
      "source": [
        "score = model.evaluate(X_test, y_test, verbose=0)\n",
        "print('Test loss:', score[0])\n",
        "print('Test accuracy:', score[1])"
      ]
    },
    {
      "cell_type": "markdown",
      "metadata": {
        "id": "0OMcbcBO8jD6"
      },
      "source": [
        "### Generate classification report"
      ]
    },
    {
      "cell_type": "code",
      "execution_count": null,
      "metadata": {
        "id": "2q-yVY0V8jD6",
        "colab": {
          "base_uri": "https://localhost:8080/"
        },
        "outputId": "d59de4ef-ec99-4d43-b4f5-3d398119db76"
      },
      "outputs": [
        {
          "output_type": "stream",
          "name": "stdout",
          "text": [
            "41/41 [==============================] - 7s 174ms/step\n",
            "              precision    recall  f1-score   support\n",
            "\n",
            "      glioma       0.23      1.00      0.37       300\n",
            "  meningioma       0.00      0.00      0.00       306\n",
            "     notumor       0.00      0.00      0.00       405\n",
            "   pituitary       0.00      0.00      0.00       300\n",
            "\n",
            "    accuracy                           0.23      1311\n",
            "   macro avg       0.06      0.25      0.09      1311\n",
            "weighted avg       0.05      0.23      0.09      1311\n",
            "\n"
          ]
        },
        {
          "output_type": "stream",
          "name": "stderr",
          "text": [
            "/usr/local/lib/python3.10/dist-packages/sklearn/metrics/_classification.py:1471: UndefinedMetricWarning: Precision and F-score are ill-defined and being set to 0.0 in labels with no predicted samples. Use `zero_division` parameter to control this behavior.\n",
            "  _warn_prf(average, modifier, msg_start, len(result))\n",
            "/usr/local/lib/python3.10/dist-packages/sklearn/metrics/_classification.py:1471: UndefinedMetricWarning: Precision and F-score are ill-defined and being set to 0.0 in labels with no predicted samples. Use `zero_division` parameter to control this behavior.\n",
            "  _warn_prf(average, modifier, msg_start, len(result))\n",
            "/usr/local/lib/python3.10/dist-packages/sklearn/metrics/_classification.py:1471: UndefinedMetricWarning: Precision and F-score are ill-defined and being set to 0.0 in labels with no predicted samples. Use `zero_division` parameter to control this behavior.\n",
            "  _warn_prf(average, modifier, msg_start, len(result))\n"
          ]
        }
      ],
      "source": [
        "y_pred = model.predict(X_test)\n",
        "y_pred_classes = np.argmax(y_pred, axis=1)\n",
        "y_true = np.argmax(y_test, axis=1)\n",
        "print(classification_report(y_true, y_pred_classes, target_names=categories))"
      ]
    },
    {
      "cell_type": "markdown",
      "metadata": {
        "id": "T9s9BrKb8jD6"
      },
      "source": [
        "### Confusion matrix"
      ]
    },
    {
      "cell_type": "code",
      "execution_count": null,
      "metadata": {
        "id": "myba49Sj8jD6",
        "colab": {
          "base_uri": "https://localhost:8080/"
        },
        "outputId": "57b86256-4947-4408-bf04-d6b9b483a320"
      },
      "outputs": [
        {
          "output_type": "stream",
          "name": "stdout",
          "text": [
            "[[300   0   0   0]\n",
            " [306   0   0   0]\n",
            " [405   0   0   0]\n",
            " [300   0   0   0]]\n"
          ]
        }
      ],
      "source": [
        "conf_matrix = confusion_matrix(y_true, y_pred_classes)\n",
        "print(conf_matrix)"
      ]
    }
  ],
  "metadata": {
    "colab": {
      "provenance": [],
      "include_colab_link": true
    },
    "kernelspec": {
      "display_name": "Python 3",
      "name": "python3"
    },
    "language_info": {
      "codemirror_mode": {
        "name": "ipython",
        "version": 3
      },
      "file_extension": ".py",
      "mimetype": "text/x-python",
      "name": "python",
      "nbconvert_exporter": "python",
      "pygments_lexer": "ipython3",
      "version": "3.12.3"
    }
  },
  "nbformat": 4,
  "nbformat_minor": 0
}